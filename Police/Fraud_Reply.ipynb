{
  "cells": [
    {
      "cell_type": "code",
      "source": [
        "from google_play_scraper import Sort, reviews\r\n",
        "\r\n",
        "def fraud_reply(app_packages):\r\n",
        "    li = []\r\n",
        "    count_none = 0\r\n",
        "    total_count = 0\r\n",
        "    avg = 0\r\n",
        "    for i in app_packages:\r\n",
        "        total_count = 0\r\n",
        "        count_none = 0\r\n",
        "        result, continuation_token = reviews(i,\r\n",
        "            lang='en', # defaults to 'en'\r\n",
        "            country='in', # defaults to 'us'\r\n",
        "        )\r\n",
        "\r\n",
        "    # If you pass `continuation_token` as an argument to the reviews function at this point,\r\n",
        "    # it will crawl the items after 3 review items.\r\n",
        "\r\n",
        "        result, _ = reviews(i,\r\n",
        "            continuation_token=continuation_token # defaults to None(load from the beginning))\r\n",
        "        )\r\n",
        "\r\n",
        "        for j in result:\r\n",
        "            total_count+=1\r\n",
        "            if(j['replyContent'] == None and j['repliedAt'] == None):\r\n",
        "                count_none += 1\r\n",
        "        avg = (100-count_none)\r\n",
        "        li.append(avg)\r\n",
        "\r\n",
        "    for j in range(0, len(li)):\r\n",
        "        probability = (100-li[j])/100\r\n",
        "        li[j] = probability\r\n",
        "    return(li)"
      ],
      "outputs": [],
      "execution_count": 1,
      "metadata": {
        "jupyter": {
          "source_hidden": false,
          "outputs_hidden": false
        },
        "nteract": {
          "transient": {
            "deleting": false
          }
        },
        "gather": {
          "logged": 1675565059495
        }
      }
    },
    {
      "cell_type": "code",
      "source": [
        "if __name__ == \"__main__\":\r\n",
        "    app_packages = ['com.kreditbee.android', 'com.citrus.citruspay', 'org.altruist.BajajExperia', 'com.gopaysense.android.boost', 'com.naviapp', 'com.bharatpe.app', 'com.kreditzy.android', 'com.moneytap.bnpl.app', 'com.stashfin.android', 'com.avail.easyloans.android', 'in.rebase.app', 'com.rupeek.customer', 'com.rupeeredee.app', 'in.zestmoney.android.zestlife', 'in.amazon.mShop.android.shopping', 'com.freecharge.android', 'com.axis.mobile', 'com.msf.kbank.mobile', 'com.upi.axispay', 'com.sbi.SBIFreedomPlus', 'com.sbi.lotusintouch', 'com.csam.icici.bank.imobile', 'com.dreamplug.androidapp', 'indwin.c3.shareapp', 'com.vaibhavkalpe.android.khatabook', 'money.jupiter', 'in.epaylater.android.retailer.generic', 'co.tslc.cashe.android', 'com.habile.cloudbankin.digimoney', 'com.lightning.lightningrupee', 'com.moneyloji.loanservice', 'com.app.buenofinance', 'com.loaney.app', 'ng.com.fairmoney.fairmoney', 'com.flipkart.shopsy', 'com.flipkart.android', 'com.myntra.android', 'com.ril.ajio', 'com.meesho.supply', 'com.fsn.nds', 'com.snapdeal.main', 'com.tul.tatacliq', 'com.shopclues', 'live.video.shopping.simsim', 'mobile.qoo10.qstlin', 'booksfortune.bookchor', 'com.tatadigital.tcp', 'com.olx.southasia', 'com.jpl.jiomart',\r\n",
        "     'com.nextbillion.groww', 'in.upstox.app', 'com.kotak.kst', 'com.dhan.live', 'com.zerodha.kite3', 'com.dream11.fantasy.cricket.football.kabaddi', 'in.myteam11.store', 'com.fantasycricketapp.ballebaazi', 'com.games24x7.my11circle.fantasycricket', 'com.gamezy.lite', 'com.ruby.rummy', 'com.howzat.fantasycricketcashgame']\r\n",
        "\r\n",
        "    x = fraud_reply(app_packages)\r\n",
        "    print(x)"
      ],
      "outputs": [
        {
          "output_type": "stream",
          "name": "stdout",
          "text": "[0.0, 0.82, 0.02, 0.49, 0.39, 0.0, 0.82, 0.02, 0.0, 0.88, 0.0, 0.96, 0.01, 0.0, 1.0, 0.59, 0.8, 0.19, 0.97, 0.01, 0.0, 0.99, 0.66, 0.03, 0.0, 0.0, 0.0, 0.52, 0.04, 1.0, 0.0, 0.95, 0.21, 0.05, 0.37, 1.0, 0.67, 0.68, 0.0, 0.04, 0.0, 0.39, 0.0, 0.0, 0.03, 0.95, 0.03, 0.7, 0.64, 0.35, 0.4, 0.0, 0.07, 0.26, 0.39, 0.04, 0.0, 0.07, 1.0, 0.0, 0.0]\n"
        }
      ],
      "execution_count": 2,
      "metadata": {
        "jupyter": {
          "source_hidden": false,
          "outputs_hidden": false
        },
        "nteract": {
          "transient": {
            "deleting": false
          }
        },
        "gather": {
          "logged": 1675565099621
        }
      }
    }
  ],
  "metadata": {
    "kernelspec": {
      "name": "python310-sdkv2",
      "language": "python",
      "display_name": "Python 3.10 - SDK v2"
    },
    "language_info": {
      "name": "python",
      "version": "3.10.9",
      "mimetype": "text/x-python",
      "codemirror_mode": {
        "name": "ipython",
        "version": 3
      },
      "pygments_lexer": "ipython3",
      "nbconvert_exporter": "python",
      "file_extension": ".py"
    },
    "kernel_info": {
      "name": "python310-sdkv2"
    },
    "microsoft": {
      "host": {
        "AzureML": {
          "notebookHasBeenCompleted": true
        }
      }
    },
    "nteract": {
      "version": "nteract-front-end@1.0.0"
    }
  },
  "nbformat": 4,
  "nbformat_minor": 2
}