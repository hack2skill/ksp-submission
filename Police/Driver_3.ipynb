{
  "cells": [
    {
      "cell_type": "code",
      "source": [
        "# takes two lists (fraud and clone) and filters and makes and sends csv files\r\n",
        "\r\n",
        "from ipynb.fs.full.CSV_Handler import make_csv, send_csv\r\n",
        "\r\n",
        "def driver_3(fraud_dict, fraud_fields, fraud_path, clone_dict, clone_fields, clone_path, FROM, TO, PASS, cap):\r\n",
        "\r\n",
        "    def skfd(x):\r\n",
        "        return x['Probability']\r\n",
        "        \r\n",
        "    def skcd(x):\r\n",
        "        return x['Attribute']\r\n",
        "    \r\n",
        "    fraud_dict = sorted(fraud_dict, key = skfd, reverse=True)\r\n",
        "    clone_dict = sorted(clone_dict, key = skcd, reverse=True)\r\n",
        "\r\n",
        "    j = 1\r\n",
        "    for i in fraud_dict:\r\n",
        "        i['Sl_No'] = j\r\n",
        "        j += 1\r\n",
        "\r\n",
        "    j = 1\r\n",
        "    for i in clone_dict:\r\n",
        "        i['Sl_No'] = j\r\n",
        "        j += 1\r\n",
        "\r\n",
        "    if cap < len(fraud_dict):\r\n",
        "        fraud_dict = fraud_dict[:cap]\r\n",
        "\r\n",
        "    if cap < len(clone_dict):\r\n",
        "        clone_dict = clone_dict[:cap]\r\n",
        "\r\n",
        "    make_csv(fraud_path, fraud_dict, fraud_fields)\r\n",
        "    make_csv(clone_path, clone_dict, clone_fields)\r\n",
        "    send_csv(FROM, TO, PASS, [fraud_path, clone_path])"
      ],
      "outputs": [],
      "execution_count": 11,
      "metadata": {
        "jupyter": {
          "source_hidden": false,
          "outputs_hidden": false
        },
        "nteract": {
          "transient": {
            "deleting": false
          }
        },
        "gather": {
          "logged": 1675564161895
        }
      }
    },
    {
      "cell_type": "code",
      "source": [
        "if __name__ == \"__main__\":\r\n",
        "\r\n",
        "    fraud_dict = [{'App_Id' : 'id1', 'Reason' : 'r1', 'Probability' : 4},\r\n",
        "                {'App_Id' : 'id2', 'Reason' : 'r2', 'Probability' : 3},\r\n",
        "                {'App_Id' : 'id3', 'Reason' : 'r3', 'Probability' : 2},\r\n",
        "                {'App_Id' : 'id4', 'Reason' : 'r4', 'Probability' : 1}]\r\n",
        "\r\n",
        "    clone_dict = [{'App_Id_Clone' : 'id1', 'App_Id_Real' : 'id1', 'Reason' : 'r1', 'Attribute' : 6},\r\n",
        "                {'App_Id_Clone' : 'id2', 'App_Id_Real' : 'id2', 'Reason' : 'r2', 'Attribute' : 5},\r\n",
        "                {'App_Id_Clone' : 'id3', 'App_Id_Real' : 'id3', 'Reason' : 'r3', 'Attribute' : 4},\r\n",
        "                {'App_Id_Clone' : 'id4', 'App_Id_Real' : 'id4', 'Reason' : 'r4', 'Attribute' : 3}]\r\n",
        "\r\n",
        "    fraud_fields = ['Sl_No','App_Id','Reason','Probability']\r\n",
        "    clone_fields = ['Sl_No','App_Id_Clone','App_Id_Real','Reason','Attribute']\r\n",
        "    \r\n",
        "    fraud_path = 'csv_files/fraud_file.csv'\r\n",
        "    clone_path = 'csv_files/clone_file.csv'\r\n",
        "    \r\n",
        "    FROM = ''\r\n",
        "    PASS = ''\r\n",
        "    TO = ''\r\n",
        "\r\n",
        "    driver_3(fraud_dict, fraud_fields, fraud_path, clone_dict, clone_fields, clone_path, FROM, TO, PASS, 3)\r\n"
      ],
      "outputs": [],
      "execution_count": 12,
      "metadata": {
        "jupyter": {
          "source_hidden": false,
          "outputs_hidden": false
        },
        "nteract": {
          "transient": {
            "deleting": false
          }
        },
        "gather": {
          "logged": 1675564165475
        }
      }
    }
  ],
  "metadata": {
    "kernelspec": {
      "name": "python310-sdkv2",
      "language": "python",
      "display_name": "Python 3.10 - SDK v2"
    },
    "language_info": {
      "name": "python",
      "version": "3.10.9",
      "mimetype": "text/x-python",
      "codemirror_mode": {
        "name": "ipython",
        "version": 3
      },
      "pygments_lexer": "ipython3",
      "nbconvert_exporter": "python",
      "file_extension": ".py"
    },
    "kernel_info": {
      "name": "python310-sdkv2"
    },
    "microsoft": {
      "host": {
        "AzureML": {
          "notebookHasBeenCompleted": true
        }
      }
    },
    "nteract": {
      "version": "nteract-front-end@1.0.0"
    }
  },
  "nbformat": 4,
  "nbformat_minor": 2
}
