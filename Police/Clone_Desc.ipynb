{
  "cells": [
    {
      "cell_type": "code",
      "source": [
        "# pip install google-play-scraper"
      ],
      "outputs": [],
      "execution_count": 5,
      "metadata": {
        "jupyter": {
          "source_hidden": false,
          "outputs_hidden": false
        },
        "nteract": {
          "transient": {
            "deleting": false
          }
        },
        "gather": {
          "logged": 1675578108794
        }
      }
    },
    {
      "cell_type": "code",
      "source": [
        "import difflib\n",
        "import re \n",
        "from google_play_scraper import app\n",
        "\n",
        "def Breaking(app_packages):\n",
        "    scd=[]\n",
        "    alldesc=[]\n",
        "    result=[]\n",
        "    for i in app_packages:\n",
        "        result = app(i,\n",
        "        lang='en', # defaults to 'en'\n",
        "        country='in') # defauts to 'us'\n",
        "        scd.append(result)\n",
        "    for i in range(0,len(scd)):\n",
        "        alldesc.append(scd[i]['description'])\n",
        "    return (alldesc, scd)\n",
        "\n",
        "def similarity(a, b):\n",
        "    return difflib.SequenceMatcher(None, a, b).ratio()\n",
        "\n",
        "def clone_desc(a,app_packages):\n",
        "    result = app(a,\n",
        "    lang='en', # defaults to 'en'\n",
        "    country='in') # defaults to 'us'\n",
        "    (alldesc, scd) = Breaking(app_packages)\n",
        "    max_value = 0\n",
        "    max_id = ''\n",
        "    for i in range(0,len(alldesc)):\n",
        "        x = similarity(alldesc[i],result['description'])\n",
        "        if(max_value < x):\n",
        "            max_value = x\n",
        "            max_id = scd[i]['appId']\n",
        "    if max_value > 0.7 :\n",
        "        return max_value, max_id\n",
        "    else:\n",
        "        return 0,''"
      ],
      "outputs": [],
      "execution_count": 10,
      "metadata": {
        "jupyter": {
          "source_hidden": false,
          "outputs_hidden": false
        },
        "nteract": {
          "transient": {
            "deleting": false
          }
        },
        "gather": {
          "logged": 1675578222780
        }
      }
    },
    {
      "cell_type": "code",
      "source": [
        "if __name__ == \"__main__\":\r\n",
        "    app_id = 'com.trade.groww'\r\n",
        "    app_database = ['com.nextbillion.groww', 'org.altruist.BajajExperia', 'com.gopaysense.android.boost', 'com.naviapp', 'com.bharatpe.app', 'com.kreditzy.android', 'com.moneytap.bnpl.app', 'com.stashfin.android', 'com.avail.easyloans.android', 'in.rebase.app', 'com.rupeek.customer', 'com.rupeeredee.app', 'in.zestmoney.android.zestlife', 'in.amazon.mShop.android.shopping', 'com.freecharge.android', 'com.axis.mobile', 'com.msf.kbank.mobile', 'com.upi.axispay', 'com.sbi.SBIFreedomPlus', 'com.sbi.lotusintouch', 'com.csam.icici.bank.imobile', 'com.dreamplug.androidapp', 'indwin.c3.shareapp', 'com.vaibhavkalpe.android.khatabook', 'money.jupiter', 'in.epaylater.android.retailer.generic', 'co.tslc.cashe.android', 'com.habile.cloudbankin.digimoney', 'com.lightning.lightningrupee', 'com.moneyloji.loanservice', 'com.app.buenofinance', 'com.loaney.app', 'ng.com.fairmoney.fairmoney', 'com.flipkart.shopsy', 'com.flipkart.android', 'com.myntra.android', 'com.ril.ajio', 'com.meesho.supply', 'com.fsn.nds', 'com.snapdeal.main', 'com.tul.tatacliq', 'com.shopclues', 'live.video.shopping.simsim', 'mobile.qoo10.qstlin', 'booksfortune.bookchor', 'com.tatadigital.tcp', 'com.olx.southasia', 'com.jpl.jiomart',\r\n",
        "        'in.upstox.app', 'com.kotak.kst', 'com.dhan.live', 'com.zerodha.kite3', 'com.dream11.fantasy.cricket.football.kabaddi', 'in.myteam11.store', 'com.fantasycricketapp.ballebaazi', 'com.games24x7.my11circle.fantasycricket', 'com.gamezy.lite', 'com.ruby.rummy', 'com.howzat.fantasycricketcashgame']\r\n",
        "\r\n",
        "    x,y = clone_desc(app_id,app_database)\r\n",
        "    print(x,y)"
      ],
      "outputs": [
        {
          "output_type": "stream",
          "name": "stdout",
          "text": "0.8833519276062972 com.nextbillion.groww\n"
        }
      ],
      "execution_count": 11,
      "metadata": {
        "jupyter": {
          "source_hidden": false,
          "outputs_hidden": false
        },
        "nteract": {
          "transient": {
            "deleting": false
          }
        },
        "gather": {
          "logged": 1675578238723
        }
      }
    }
  ],
  "metadata": {
    "kernelspec": {
      "name": "python310-sdkv2",
      "language": "python",
      "display_name": "Python 3.10 - SDK v2"
    },
    "language_info": {
      "name": "python",
      "version": "3.10.9",
      "mimetype": "text/x-python",
      "codemirror_mode": {
        "name": "ipython",
        "version": 3
      },
      "pygments_lexer": "ipython3",
      "nbconvert_exporter": "python",
      "file_extension": ".py"
    },
    "kernel_info": {
      "name": "python310-sdkv2"
    },
    "microsoft": {
      "host": {
        "AzureML": {
          "notebookHasBeenCompleted": true
        }
      }
    },
    "nteract": {
      "version": "nteract-front-end@1.0.0"
    }
  },
  "nbformat": 4,
  "nbformat_minor": 2
}