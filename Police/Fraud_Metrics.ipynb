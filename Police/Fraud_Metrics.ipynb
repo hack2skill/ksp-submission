{
  "cells": [
    {
      "cell_type": "code",
      "source": [
        "from google_play_scraper import app\r\n",
        "import pandas as pd\r\n",
        "import pickle\r\n",
        "\r\n",
        "def fraud_metrics(appid):\r\n",
        "    dt_loadedmodel=pickle.load(open(\"pkl_files/Fraud_Metrics_1.pkl\",\"rb\"))  ##Decision Tree ML Model Load\r\n",
        "    metrics=[]\r\n",
        "    result = app(appid,lang='en',country='in') # defaults to 'us')\r\n",
        "    metrics.append(result)\r\n",
        "    df_master=pd.DataFrame(metrics)\r\n",
        "    df_app=df_master[['minInstalls','realInstalls','score','ratings','reviews']]\r\n",
        "    metric_score=dt_loadedmodel.predict(df_app)\r\n",
        "    return metric_score[0]\r\n",
        "    ## O indicates genuine and 1 indicates fraud app\r\n"
      ],
      "outputs": [],
      "execution_count": 8,
      "metadata": {
        "jupyter": {
          "source_hidden": false,
          "outputs_hidden": false
        },
        "nteract": {
          "transient": {
            "deleting": false
          }
        },
        "gather": {
          "logged": 1675566037555
        }
      }
    },
    {
      "cell_type": "code",
      "source": [
        "if __name__ == \"__main__\":\r\n",
        "    appid = 'com.kotak.kst'\r\n",
        "    ans=fraud_metrics(appid)\r\n",
        "    print(ans)"
      ],
      "outputs": [
        {
          "output_type": "stream",
          "name": "stdout",
          "text": "1\n"
        }
      ],
      "execution_count": 9,
      "metadata": {
        "jupyter": {
          "source_hidden": false,
          "outputs_hidden": false
        },
        "nteract": {
          "transient": {
            "deleting": false
          }
        },
        "gather": {
          "logged": 1675566039765
        }
      }
    }
  ],
  "metadata": {
    "kernelspec": {
      "name": "python310-sdkv2",
      "language": "python",
      "display_name": "Python 3.10 - SDK v2"
    },
    "language_info": {
      "name": "python",
      "version": "3.10.9",
      "mimetype": "text/x-python",
      "codemirror_mode": {
        "name": "ipython",
        "version": 3
      },
      "pygments_lexer": "ipython3",
      "nbconvert_exporter": "python",
      "file_extension": ".py"
    },
    "kernel_info": {
      "name": "python310-sdkv2"
    },
    "nteract": {
      "version": "nteract-front-end@1.0.0"
    },
    "microsoft": {
      "host": {
        "AzureML": {
          "notebookHasBeenCompleted": true
        }
      }
    }
  },
  "nbformat": 4,
  "nbformat_minor": 2
}