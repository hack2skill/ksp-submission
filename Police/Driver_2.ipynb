{
  "cells": [
    {
      "cell_type": "code",
      "source": [
        "# takes two list of urls as input, applies models and generates score of being fraud and clone,\r\n",
        "# returns two lists of dictionaries\r\n",
        "\r\n",
        "from ipynb.fs.full.Clone_Logo import clone_logo\r\n",
        "from ipynb.fs.full.Clone_Desc import clone_desc\r\n",
        "from ipynb.fs.full.Fraud_Desc import fraud_desc\r\n",
        "from ipynb.fs.full.Fraud_Vers import fraud_vers\r\n",
        "from ipynb.fs.full.Fraud_Reply import fraud_reply\r\n",
        "from ipynb.fs.full.Fraud_Dev import fraud_dev\r\n",
        "from ipynb.fs.full.Fraud_Metrics import fraud_metrics\r\n",
        "from ipynb.fs.full.Fraud_Review import fraud_review\r\n",
        "from urllib.error import HTTPError\r\n",
        "from google_play_scraper import exceptions\r\n",
        "\r\n",
        "def cal(rs,met,ver,des,dev,rep):\r\n",
        "    dict = {'Review_Sentiment':0.25*rs,'Metrics':0.20*met,'Version':0.15*ver,'Description':0.20*des,'Developer':0.10*dev, 'Reply_Content':0.05*rep}\r\n",
        "    x = dict.values()\r\n",
        "    fval = sum(x)\r\n",
        "    max_ele = max(x)\r\n",
        "    for key,value in dict.items():\r\n",
        "        if(value == max_ele):\r\n",
        "            return key, fval\r\n",
        "    return 0,0\r\n",
        "\r\n",
        "\r\n",
        "def driver_2(id_inputs, id_database):\r\n",
        "\r\n",
        "    flist = []\r\n",
        "    clist = []\r\n",
        "\r\n",
        "    fraud_version_list = fraud_vers(id_inputs)\r\n",
        "    fraud_reply_list = fraud_reply(id_inputs)\r\n",
        "    i = 0\r\n",
        "\r\n",
        "    for app_id in id_inputs:\r\n",
        "\r\n",
        "        if(app_id in id_database):\r\n",
        "            return 0,0\r\n",
        "\r\n",
        "        ifdict = dict()\r\n",
        "        icdict = dict()   \r\n",
        "\r\n",
        "        dpath1 = 'buffers/logo1.png'\r\n",
        "        dpath2 = 'buffers/logo2.png'\r\n",
        "\r\n",
        "        \r\n",
        "        try:\r\n",
        "            cval_logo, cval_logo_id = clone_logo(app_id,id_database,dpath1,dpath2)\r\n",
        "            cval_desc, cval_desc_id = clone_desc(app_id,id_database)\r\n",
        "\r\n",
        "            fval_review = fraud_review(app_id)\r\n",
        "            fval_metrics = fraud_metrics(app_id)\r\n",
        "            fval_verion = fraud_version_list[i]\r\n",
        "            fval_reply = fraud_reply_list[i]\r\n",
        "            fval_description = fraud_desc(app_id)\r\n",
        "            fval_developer = fraud_dev(app_id,id_database)\r\n",
        "        \r\n",
        "\r\n",
        "            # clone:\r\n",
        "\r\n",
        "            cflag = 1\r\n",
        "            if cval_logo == 0 and cval_desc != 0 :\r\n",
        "                cval_total = cval_desc\r\n",
        "                cval_max = 'Matching Description'\r\n",
        "                cval_id = cval_desc_id\r\n",
        "            elif cval_desc == 0 and cval_logo != 0:\r\n",
        "                cval_total = cval_logo\r\n",
        "                cval_max = 'Matching Logo'\r\n",
        "                cval_id = cval_logo_id\r\n",
        "            elif cval_desc != 0 and cval_logo != 0:\r\n",
        "                if cval_logo > cval_desc:\r\n",
        "                    cval_total = cval_logo\r\n",
        "                    cval_max = 'Matching Logo'\r\n",
        "                    cval_id = cval_logo_id\r\n",
        "                else:\r\n",
        "                    cval_total = cval_desc\r\n",
        "                    cval_max = 'Matching Description'\r\n",
        "                    cval_id = cval_desc_id\r\n",
        "            else:\r\n",
        "                cval_id = 0\r\n",
        "                cval_max = 0\r\n",
        "                cval_total = 0\r\n",
        "                cflag = 0\r\n",
        "\r\n",
        "            icdict['App_Id_Clone'] = app_id\r\n",
        "            icdict['App_Id_Real'] = cval_id\r\n",
        "            icdict['Reason'] = cval_max\r\n",
        "            icdict['Attribute'] = cval_total\r\n",
        "\r\n",
        "            # fraud:        \r\n",
        "\r\n",
        "            fval_max, fval_total = cal(fval_review,fval_metrics,fval_verion,fval_description,fval_developer,fval_reply)\r\n",
        "\r\n",
        "            fflag = 1\r\n",
        "\r\n",
        "            ifdict['App_Id'] = app_id\r\n",
        "            ifdict['Reason'] = fval_max \r\n",
        "            ifdict['Probability'] = fval_total\r\n",
        "\r\n",
        "            if fval_total < 0.6:\r\n",
        "                fflag = 0\r\n",
        "\r\n",
        "            if fflag:\r\n",
        "                flist.append(ifdict)\r\n",
        "                \r\n",
        "            if cflag:\r\n",
        "                clist.append(icdict)\r\n",
        "\r\n",
        "        except exceptions.NotFoundError as e:\r\n",
        "            print('Some Apps not found, please check database and input : NotFoundError')\r\n",
        "            i += 1\r\n",
        "            continue\r\n",
        "        except KeyError as e:\r\n",
        "            print('Something went wrong with Keys : KeyError')\r\n",
        "            i += 1\r\n",
        "            continue\r\n",
        "\r\n",
        "        i += 1\r\n",
        "\r\n",
        "    return flist, clist"
      ],
      "outputs": [],
      "execution_count": 63,
      "metadata": {
        "jupyter": {
          "source_hidden": false,
          "outputs_hidden": false
        },
        "nteract": {
          "transient": {
            "deleting": false
          }
        },
        "gather": {
          "logged": 1675963283526
        }
      }
    },
    {
      "cell_type": "code",
      "source": [
        "if __name__ == \"__main__\":\r\n",
        "    id_database = ['com.nextbillion.groww','com.tilicho.lendpal','com.branch_international.branch.branch_demo_android','com.finmapp.fininfinity','com.mymoneymantra.customer.app','io.attabot.app.paymeindia','com.games24x7.rummycircle.rummy','com.worldlineindia.ubi.merchantbqr','com.infrasoft.uboi','com.canarabank.mobility','com.dcb','com.revolut.junior','com.financialexpress.android','com.indianexpress.android','com.digilocker.android','com.mpokket.app','com.google.android.apps.tachyon','com.voldspeed.fast','com.snapchat.android','com.fengshenidle.fangzhi','com.leyoule.syhj','com.goodfun.mxy','com.rainbowgames.solitaire.google','com.anfn.jqioe.teenpatti','com.online.real.indian.cards.palacerummy','com.rotoql.betql','com.paytmmall','rummy.fantasy.firstgames','com.paytmmoney','com.bookmark.money','com.trueadviserhe.personalloan','com.tilicho.lendpal','com.iiflfinance.mymoney','tech.fplabs.score','com.epifi.paisa','com.nu.production','com.iexceed.appzillon.ippbMB','com.mnc.mbanking','com.bankofbaroda.mconnect','com.teenpatti.hd.gold.rummy','com.teenpatti.hd.gold','com.games24x7.ultimaterummy.playstore','com.tradewill.online','com.coindcx.btc','com.fusionmedia.investing','com.sbi.mf','com.forex.markets.app.android','com.kreditbee.android', 'com.citrus.citruspay', 'org.altruist.BajajExperia', 'com.gopaysense.android.boost', 'com.naviapp', 'com.bharatpe.app', 'com.kreditzy.android', 'com.moneytap.bnpl.app', 'com.stashfin.android', 'com.avail.easyloans.android', 'in.rebase.app', 'com.rupeek.customer', 'com.rupeeredee.app', 'in.zestmoney.android.zestlife', 'in.amazon.mShop.android.shopping', 'com.freecharge.android', 'com.axis.mobile', 'com.msf.kbank.mobile', 'com.upi.axispay', 'com.sbi.SBIFreedomPlus', 'com.sbi.lotusintouch', 'com.csam.icici.bank.imobile', 'com.dreamplug.androidapp', 'indwin.c3.shareapp', 'com.vaibhavkalpe.android.khatabook', 'money.jupiter', 'in.epaylater.android.retailer.generic', 'co.tslc.cashe.android', 'com.habile.cloudbankin.digimoney', 'com.moneyloji.loanservice', 'com.app.buenofinance', 'com.loaney.app', 'ng.com.fairmoney.fairmoney', 'com.flipkart.shopsy', 'com.flipkart.android', 'com.myntra.android', 'com.ril.ajio', 'com.meesho.supply', 'com.fsn.nds', 'com.snapdeal.main', 'com.tul.tatacliq', 'com.shopclues', 'live.video.shopping.simsim', 'mobile.qoo10.qstlin', 'booksfortune.bookchor', 'com.tatadigital.tcp', 'com.olx.southasia', 'com.jpl.jiomart', 'in.upstox.app', 'com.kotak.kst', 'com.dhan.live', 'com.zerodha.kite3', 'com.dream11.fantasy.cricket.football.kabaddi', 'in.myteam11.store', 'com.fantasycricketapp.ballebaazi', 'com.games24x7.my11circle.fantasycricket', 'com.gamezy.lite', 'com.ruby.rummy', 'com.howzat.fantasycricketcashgame']\r\n",
        "    # flist,clist = driver_2(['com.trade.groww'],id_database)\r\n",
        "\r\n",
        "    app_database = id_database[0:15]\r\n",
        "    app_inputs = ['com.trade.groww','com.kakaopay.app','com.thebuilder.fantasypredictor','com.indpay.getcash','com.kaleidofin.kaleidofinCustomer', 'org.altruist.BajajExperia', 'com.gopaysense.android.boost']\r\n",
        "    flist,clist = driver_2(app_inputs,app_database)\r\n",
        "    \r\n",
        "    print(flist,clist)"
      ],
      "outputs": [
        {
          "output_type": "stream",
          "name": "stderr",
          "text": "/anaconda/envs/azureml_py310_sdkv2/lib/python3.10/site-packages/sklearn/base.py:493: FutureWarning: The feature names should match those that were passed during fit. Starting version 1.2, an error will be raised.\nFeature names must be in the same order as they were in fit.\n\n  warnings.warn(message, FutureWarning)\n"
        }
      ],
      "execution_count": 64,
      "metadata": {
        "jupyter": {
          "source_hidden": false,
          "outputs_hidden": false
        },
        "nteract": {
          "transient": {
            "deleting": false
          }
        },
        "gather": {
          "logged": 1675962959290
        }
      }
    }
  ],
  "metadata": {
    "kernelspec": {
      "name": "python310-sdkv2",
      "language": "python",
      "display_name": "Python 3.10 - SDK v2"
    },
    "language_info": {
      "name": "python",
      "version": "3.10.9",
      "mimetype": "text/x-python",
      "codemirror_mode": {
        "name": "ipython",
        "version": 3
      },
      "pygments_lexer": "ipython3",
      "nbconvert_exporter": "python",
      "file_extension": ".py"
    },
    "kernel_info": {
      "name": "python310-sdkv2"
    },
    "microsoft": {
      "host": {
        "AzureML": {
          "notebookHasBeenCompleted": true
        }
      }
    },
    "nteract": {
      "version": "nteract-front-end@1.0.0"
    }
  },
  "nbformat": 4,
  "nbformat_minor": 2
}