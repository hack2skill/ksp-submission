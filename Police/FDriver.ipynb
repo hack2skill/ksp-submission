{
  "cells": [
    {
      "cell_type": "code",
      "execution_count": null,
      "metadata": {
        "gather": {
          "logged": 1675962703134
        },
        "jupyter": {
          "outputs_hidden": false,
          "source_hidden": false
        },
        "nteract": {
          "transient": {
            "deleting": false
          }
        }
      },
      "outputs": [],
      "source": [
        "from ipynb.fs.full.Driver_1 import driver_1\n",
        "from ipynb.fs.full.Driver_2 import driver_2\n",
        "from ipynb.fs.full.Driver_3 import driver_3\n",
        "\n",
        "fraud_fields = ['Sl_No','App_Id','Reason','Probability']\n",
        "clone_fields = ['Sl_No','App_Id_Clone','App_Id_Real','Reason','Attribute']\n",
        "\n",
        "fraud_path = 'csv_files/fraud_file.csv'\n",
        "clone_path = 'csv_files/clone_file.csv'\n",
        "\n",
        "FROM = ''\n",
        "PASS = ''\n",
        "TO = ''\n",
        "CAP = 20\n",
        "FIRST = 1\n",
        "\n",
        "id_database = ['com.nextbillion.groww','com.tilicho.lendpal','com.branch_international.branch.branch_demo_android','com.finmapp.fininfinity','com.mymoneymantra.customer.app','io.attabot.app.paymeindia','com.games24x7.rummycircle.rummy','com.worldlineindia.ubi.merchantbqr','com.infrasoft.uboi','com.canarabank.mobility','com.dcb','org.betup','com.revolut.junior','com.financialexpress.android','com.indianexpress.android','com.digilocker.android','com.mpokket.app','com.google.android.apps.tachyon','com.voldspeed.fast','com.snapchat.android','com.fengshenidle.fangzhi','com.leyoule.syhj','com.goodfun.mxy','com.rainbowgames.solitaire.google','com.anfn.jqioe.teenpatti','com.online.real.indian.cards.palacerummy','com.rotoql.betql','com.betanalytix.app','com.paytmmall','rummy.fantasy.firstgames','com.paytmmoney','com.bookmark.money','com.trueadviserhe.personalloan','com.tilicho.lendpal','com.iiflfinance.mymoney','tech.fplabs.score','com.epifi.paisa','com.nu.production','com.iexceed.appzillon.ippbMB','com.mnc.mbanking','com.bankofbaroda.mconnect','com.teenpatti.hd.gold.rummy','com.teenpatti.hd.gold','com.games24x7.ultimaterummy.playstore','com.tradewill.online','com.coindcx.btc','com.fusionmedia.investing','com.sbi.mf','com.forex.markets.app.android','com.kreditbee.android', 'com.citrus.citruspay', 'org.altruist.BajajExperia', 'com.gopaysense.android.boost', 'com.naviapp', 'com.bharatpe.app', 'com.kreditzy.android', 'com.moneytap.bnpl.app', 'com.stashfin.android', 'com.avail.easyloans.android', 'in.rebase.app', 'com.rupeek.customer', 'com.rupeeredee.app', 'in.zestmoney.android.zestlife', 'in.amazon.mShop.android.shopping', 'com.freecharge.android', 'com.axis.mobile', 'com.msf.kbank.mobile', 'com.upi.axispay', 'com.sbi.SBIFreedomPlus', 'com.sbi.lotusintouch', 'com.csam.icici.bank.imobile', 'com.dreamplug.androidapp', 'indwin.c3.shareapp', 'com.vaibhavkalpe.android.khatabook', 'money.jupiter', 'in.epaylater.android.retailer.generic', 'co.tslc.cashe.android', 'com.habile.cloudbankin.digimoney', 'com.moneyloji.loanservice', 'com.app.buenofinance', 'com.loaney.app', 'ng.com.fairmoney.fairmoney', 'com.flipkart.shopsy', 'com.flipkart.android', 'com.myntra.android', 'com.ril.ajio', 'com.meesho.supply', 'com.fsn.nds', 'com.snapdeal.main', 'com.tul.tatacliq', 'com.shopclues', 'live.video.shopping.simsim', 'mobile.qoo10.qstlin', 'booksfortune.bookchor', 'com.tatadigital.tcp', 'com.olx.southasia', 'com.jpl.jiomart', 'in.upstox.app', 'com.kotak.kst', 'com.dhan.live', 'com.zerodha.kite3', 'com.dream11.fantasy.cricket.football.kabaddi', 'in.myteam11.store', 'com.fantasycricketapp.ballebaazi', 'com.games24x7.my11circle.fantasycricket', 'com.gamezy.lite', 'com.ruby.rummy', 'com.howzat.fantasycricketcashgame']\n",
        "    \n",
        "\n",
        "# below two lists are for testing purposes\n",
        "app_database = id_database[0:15]\n",
        "app_inputs = ['com.trade.groww','com.kakaopay.app','com.thebuilder.fantasypredictor','com.indpay.getcash','com.kaleidofin.kaleidofinCustomer', 'org.altruist.BajajExperia', 'com.gopaysense.android.boost']\n",
        "       \n",
        "id_inputs = driver_1(FIRST)\n",
        "print('Driver 1 complete ============================================')\n",
        "\n",
        "# uncomment the 30th line and comment the 31th line for real values\n",
        "# note: takes a very long time\n",
        "\n",
        "# f_list, c_list = driver_2(id_inputs,id_database)\n",
        "f_list, c_list = driver_2(app_inputs,app_database)\n",
        "print('Driver 2 complete ============================================')\n",
        "driver_3(f_list, fraud_fields, fraud_path, c_list, clone_fields, clone_path, FROM, TO, PASS, CAP)\n",
        "print('Driver 3 complete ============================================')"
      ]
    }
  ],
  "metadata": {
    "kernel_info": {
      "name": "python310-sdkv2"
    },
    "kernelspec": {
      "display_name": "Python 3.10 - SDK v2",
      "language": "python",
      "name": "python310-sdkv2"
    },
    "language_info": {
      "codemirror_mode": {
        "name": "ipython",
        "version": 3
      },
      "file_extension": ".py",
      "mimetype": "text/x-python",
      "name": "python",
      "nbconvert_exporter": "python",
      "pygments_lexer": "ipython3",
      "version": "3.10.9"
    },
    "microsoft": {
      "host": {
        "AzureML": {
          "notebookHasBeenCompleted": true
        }
      }
    },
    "nteract": {
      "version": "nteract-front-end@1.0.0"
    }
  },
  "nbformat": 4,
  "nbformat_minor": 2
}
