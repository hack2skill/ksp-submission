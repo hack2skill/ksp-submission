{
  "cells": [
    {
      "cell_type": "code",
      "source": [
        "import time\r\n",
        "\r\n",
        "def run_script():\r\n",
        "  import ipynb.fs.full.Fdriver\r\n",
        "  print(\"Running script...\")\r\n",
        "\r\n",
        "while True:\r\n",
        "  run_script()\r\n",
        "  time.sleep(21600)"
      ],
      "outputs": [],
      "execution_count": null,
      "metadata": {}
    }
  ],
  "metadata": {
    "kernelspec": {
      "display_name": "Python 3.10 - SDK v2",
      "language": "python",
      "name": "python310-sdkv2"
    },
    "language_info": {
      "codemirror_mode": {
        "name": "ipython",
        "version": 3
      },
      "file_extension": ".py",
      "mimetype": "text/x-python",
      "name": "python",
      "nbconvert_exporter": "python",
      "pygments_lexer": "ipython3",
      "version": "3.10.6"
    },
    "nteract": {
      "version": "nteract-front-end@1.0.0"
    }
  },
  "nbformat": 4,
  "nbformat_minor": 2
}