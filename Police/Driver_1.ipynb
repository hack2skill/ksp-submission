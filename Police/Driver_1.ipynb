{
  "cells": [
    {
      "cell_type": "code",
      "source": [
        "from google_play_scraper import search, Sort\r\n",
        "\r\n",
        "def driver_1(first): \r\n",
        "    ls = [\"loan\", \"rummy\", \"cricket fantasy\", \"investment\", \"betting\"]\r\n",
        "    id_inputs = []\r\n",
        "\r\n",
        "    for i in ls:\r\n",
        "        if first:\r\n",
        "            result = search(\r\n",
        "                i,\r\n",
        "                lang='en', # defaults to 'en'\r\n",
        "                country='in', # defaults to 'us'\r\n",
        "                # sort=Sort.NEWEST, # defaults to Sort.MOST_RELEVANT\r\n",
        "            )\r\n",
        "        else:\r\n",
        "            result = search(\r\n",
        "                i,\r\n",
        "                lang='en', # defaults to 'en'\r\n",
        "                country='in', # defaults to 'us'\r\n",
        "                sort=Sort.NEWEST, # defaults to Sort.MOST_RELEVANT\r\n",
        "            )\r\n",
        "        for j in result:\r\n",
        "            id_inputs.append(j['appId'])\r\n",
        "\r\n",
        "    id_inputs = set(id_inputs)\r\n",
        "    return list(id_inputs)\r\n"
      ],
      "outputs": [],
      "execution_count": 2,
      "metadata": {
        "jupyter": {
          "source_hidden": false,
          "outputs_hidden": false
        },
        "nteract": {
          "transient": {
            "deleting": false
          }
        },
        "gather": {
          "logged": 1675562866440
        }
      }
    },
    {
      "cell_type": "code",
      "source": [
        "if __name__ == \"__main__\":\r\n",
        "    x = driver_1(1)\r\n",
        "    print(x)"
      ],
      "outputs": [
        {
          "output_type": "stream",
          "name": "stdout",
          "text": "['com.suretips.bettingtipsnewteam', 'com.portal.hcin', 'com.howzatfantasy.play', 'com.etrade.mobilepro.activity', 'com.bu.unitedteamfree', 'ng.com.fairmoney.fairmoney', 'com.rummywin.client', 'com.vinfotech.theperfectlineup', 'com.analystman', 'io.yarsa.games.indianrummy', 'com.cloudlatitude.fantasygameapp', 'ps.real11', 'com.london.bettingtips', 'com.choic11.fantasy', 'com.rotogrinders.vegasinsider', 'com.popve.investrun', 'in.loanfront.android', 'com.capital.investmate', 'com.paytmmoney', 'com.fastbanking', 'com.games24x7.ultimaterummy.playstore', 'com.rg.life11', 'com.fivepaisa.trade', 'com.ideopay.user', 'com.etoro.openbook', 'com.naviapp', 'com.bettingtips.gotips', 'com.rummytime.googleplay', 'com.finangeros.investgeros', 'com.betmines', 'com.sbi.mf', 'com.advancecricket.advancecricket', 'com.games24x7.rummycircle.rummy', 'rubicoin.rubicoinlearn', 'com.fantasycricketapp.ballebaazi', 'games.swoop.fantasycricket', 'com.postpe.app', 'com.gamezy.lite', 'com.capital.etf.trade', 'com.freshirosoft.financialcalculator', 'com.indialends.android', 'com.citrus.citruspay', 'com.stashfin.android', 'com.elevenplayer.in', 'com.sports.insider', 'in.cricketexchange.fantasy', 'in.rebase.app', 'com.piramal.app.pchf', 'com.betmanageapp', 'com.kotak.kst', 'com.investday.investlearn', 'com.teenpatti.hd.gold', 'com.howzat.fantasycricketcashgame', 'com.locco.bet', 'in.myteam11.store', 'com.msf.angelmobile', 'com.fantasyapp.sportsbuzz11', 'com.rummy.litegame', 'com.rozclient.game', 'com.bm.goatBettingTips', 'com.deportes', 'com.socialbet.android', 'com.my11guru.fantasy.sports.cricket', 'app.cashew.betstamp', 'com.fantasyakhada.akhada', 'in.a23.fantasy', 'com.mysiponline', 'com.rummycue.empty', 'ott.wagertalk', 'com.betanalytix.app', 'com.app.buenofinance', 'com.jungleerummy.playcashgameonline', 'com.lagaikhaipro', 'forex.purple', 'com.forex.markets.app.android', 'co.tslc.cashe.android', 'com.octro.rummy', 'com.fourdegreewater.wintwealth', 'org.betup', 'co.tala', 'com.twelve.club', 'com.rotoql.betql', 'com.palace.bet', 'com.mobivention.tippspiel.game.tipster.friends2014', 'com.halaplay', 'com.zcode.zlivesignals', 'com.smartspends', 'in.zestmoney.android.zestlife', 'com.coindcx.btc', 'com.branch_international.branch.branch_demo_android', 'com.prime_betting_tips.prime_betting_tips', 'com.kreditbee.android', 'com.deepbet', 'in.tickertape', 'com.eastudios.indianrummy', 'com.games24x7.my11circle.fantasycricket', 'com.whizdm.moneyview.loans', 'com.kingpin', 'com.balancehero.truebalance', 'net.peakgames.ginrummyplus', 'com.gopaysense.android.boost', 'com.ufogames.fantasy', 'com.leaguex.play', 'com.rupeeredee.app', 'com.comfun.mobile.rumm.asgp', 'com.mpokket.app', 'com.myfab11pro', 'com.online.real.indian.cards.palacerummy', 'com.tipster.man', 'com.avail.easyloans.android', 'com.brainybucks.games.fsl11.fantasy.cricket.football.kabaddi', 'com.fusionmedia.investing', 'com.mpl.androidapp.cash', 'org.altruist.BajajExperia', 'se.avanzabank.androidapplikation', 'com.univest.capp', 'com.scoresandodds.mobile', 'org.dayup.stocks', 'com.traustast.deciml', 'com.tradewill.online', 'com.abilitygames.elevenwickets', 'com.tipsters.betonair', 'com.possible11.possible11', 'com.rbsloan.app', 'com.game.oneto11', 'com.teenpatti.hd.gold.rummy', 'com.bbumgames.rummystars', 'in.upstox.pro', 'com.rummy.buzzgame', 'com.thebuilder.fantasypredictor', 'com.digitoygames.ginrummy', 'com.smallcase.android', 'io.attabot.app.paymeindia', 'com.dream11.fantasy.cricket.football.kabaddi', 'com.pocketly', 'com.nextbillion.groww', 'com.simpl.android']\n"
        }
      ],
      "execution_count": 4,
      "metadata": {
        "jupyter": {
          "source_hidden": false,
          "outputs_hidden": false
        },
        "nteract": {
          "transient": {
            "deleting": false
          }
        },
        "gather": {
          "logged": 1675562880347
        }
      }
    }
  ],
  "metadata": {
    "kernelspec": {
      "name": "python310-sdkv2",
      "language": "python",
      "display_name": "Python 3.10 - SDK v2"
    },
    "language_info": {
      "name": "python",
      "version": "3.10.9",
      "mimetype": "text/x-python",
      "codemirror_mode": {
        "name": "ipython",
        "version": 3
      },
      "pygments_lexer": "ipython3",
      "nbconvert_exporter": "python",
      "file_extension": ".py"
    },
    "kernel_info": {
      "name": "python310-sdkv2"
    },
    "microsoft": {
      "host": {
        "AzureML": {
          "notebookHasBeenCompleted": true
        }
      }
    },
    "nteract": {
      "version": "nteract-front-end@1.0.0"
    }
  },
  "nbformat": 4,
  "nbformat_minor": 2
}