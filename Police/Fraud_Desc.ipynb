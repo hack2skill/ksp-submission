{
  "cells": [
    {
      "cell_type": "code",
      "source": [
        "#pip install google_play_scraper"
      ],
      "outputs": [],
      "execution_count": 1,
      "metadata": {
        "jupyter": {
          "source_hidden": false,
          "outputs_hidden": false
        },
        "nteract": {
          "transient": {
            "deleting": false
          }
        },
        "gather": {
          "logged": 1675564766851
        }
      }
    },
    {
      "cell_type": "code",
      "source": [
        "import pandas as pd\r\n",
        "import numpy as np\r\n",
        "import difflib\r\n",
        "import re \r\n",
        "import language_tool_python  \r\n",
        "from google_play_scraper import app"
      ],
      "outputs": [],
      "execution_count": 2,
      "metadata": {
        "jupyter": {
          "source_hidden": false,
          "outputs_hidden": false
        },
        "nteract": {
          "transient": {
            "deleting": false
          }
        },
        "gather": {
          "logged": 1675564768828
        }
      }
    },
    {
      "cell_type": "code",
      "source": [
        "def fraud_desc(a):\n",
        "    result = app(a,\n",
        "    lang='en', # defaults to 'en'\n",
        "    country='in') # defaults to 'us'\n",
        "    des=result['description']\n",
        "    # using the tool  \n",
        "    my_tool = language_tool_python.LanguageTool('en-IN')  \n",
        "    \n",
        "    # given text  \n",
        "    my_text = des\n",
        "    # getting the matches  \n",
        "    my_matches = my_tool.check(my_text)  \n",
        "    \n",
        "    # defining some variables  \n",
        "    myMistakes = []  \n",
        "    myCorrections = []  \n",
        "    startPositions = []  \n",
        "    endPositions = []  \n",
        "    \n",
        "    # using the for-loop  \n",
        "    for rules in my_matches:  \n",
        "        if len(rules.replacements) > 0:  \n",
        "            startPositions.append(rules.offset)  \n",
        "            endPositions.append(rules.errorLength + rules.offset)  \n",
        "            myMistakes.append(my_text[rules.offset : rules.errorLength + rules.offset])  \n",
        "            myCorrections.append(rules.replacements[0])  \n",
        "    \n",
        "    # creating new object  \n",
        "    my_NewText = list(my_text)\n",
        "    result = app(a,\n",
        "    lang='en', # defaults to 'en'\n",
        "    country='in') # defaults to 'us'\n",
        "    des=result['description']\n",
        "    x=des.find('APR')\n",
        "    y=des.find('NFBC')\n",
        "    if(x!=-1 and y!= -1 and len(myCorrections)<2):\n",
        "        return 0.2\n",
        "    elif(x==-1 and y!=-1 and len(myCorrections)<2):\n",
        "        return 0.4\n",
        "    elif(x!=-1 and y==-1 and len(myCorrections)<2):\n",
        "        return 0.4\n",
        "    elif(x==-1 and y==-1 and len(myCorrections)<2):\n",
        "        return 0.5\n",
        "    elif(x==-1 and y!=-1 and len(myCorrections)>2):\n",
        "        return 0.7\n",
        "    elif(x==-1 and y!=-1 and len(myCorrections)>5):\n",
        "        return 0.8\n",
        "    elif(x==-1 and y!=-1 and len(myCorrections)>8):\n",
        "        return 0.9\n",
        "    else:\n",
        "        return 0.5"
      ],
      "outputs": [],
      "execution_count": 4,
      "metadata": {
        "jupyter": {
          "source_hidden": false,
          "outputs_hidden": false
        },
        "nteract": {
          "transient": {
            "deleting": false
          }
        },
        "gather": {
          "logged": 1675564776827
        }
      }
    },
    {
      "cell_type": "code",
      "source": [
        "if __name__ == \"__main__\":\r\n",
        "    app_id = 'com.citrus.citruspay'\r\n",
        "    x = fraud_desc(app_id)\r\n",
        "    print(x)"
      ],
      "outputs": [
        {
          "output_type": "stream",
          "name": "stdout",
          "text": "0.5\n"
        }
      ],
      "execution_count": 7,
      "metadata": {
        "jupyter": {
          "source_hidden": false,
          "outputs_hidden": false
        },
        "nteract": {
          "transient": {
            "deleting": false
          }
        },
        "gather": {
          "logged": 1675564865948
        }
      }
    }
  ],
  "metadata": {
    "kernelspec": {
      "name": "python310-sdkv2",
      "language": "python",
      "display_name": "Python 3.10 - SDK v2"
    },
    "language_info": {
      "name": "python",
      "version": "3.10.9",
      "mimetype": "text/x-python",
      "codemirror_mode": {
        "name": "ipython",
        "version": 3
      },
      "pygments_lexer": "ipython3",
      "nbconvert_exporter": "python",
      "file_extension": ".py"
    },
    "kernel_info": {
      "name": "python310-sdkv2"
    },
    "microsoft": {
      "host": {
        "AzureML": {
          "notebookHasBeenCompleted": true
        }
      }
    },
    "nteract": {
      "version": "nteract-front-end@1.0.0"
    }
  },
  "nbformat": 4,
  "nbformat_minor": 2
}