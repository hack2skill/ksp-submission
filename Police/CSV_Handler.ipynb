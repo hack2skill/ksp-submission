{
  "cells": [
    {
      "cell_type": "code",
      "source": [
        "# pip install envelope"
      ],
      "outputs": [],
      "execution_count": 1,
      "metadata": {
        "gather": {
          "logged": 1675535806645
        }
      }
    },
    {
      "cell_type": "code",
      "source": [
        "from envelope import Envelope\r\n",
        "from pathlib import Path\r\n",
        "import csv\r\n",
        "\r\n",
        "def make_csv(fname, ldict, lfields):\r\n",
        "    with open(fname, 'w', newline='') as file: \r\n",
        "        writer = csv.DictWriter(file, fieldnames = lfields)\r\n",
        "        writer.writeheader() \r\n",
        "        writer.writerows(ldict)\r\n",
        "        \r\n",
        "def send_csv(FROM, TO, PASS, fnames):\r\n",
        "    Envelope()\\\r\n",
        "        .from_(FROM)\\\r\n",
        "        .subject(\"CSV Files\")\\\r\n",
        "        .to(TO)\\\r\n",
        "        .message(\"Files Attached\")\\\r\n",
        "        .attach(Path(fnames[0]))\\\r\n",
        "        .attach(Path(fnames[1]))\\\r\n",
        "        .smtp(\"smtp.gmail.com\", 587, FROM, PASS)\\\r\n",
        "        .send()"
      ],
      "outputs": [],
      "execution_count": 1,
      "metadata": {
        "jupyter": {
          "source_hidden": false,
          "outputs_hidden": false
        },
        "nteract": {
          "transient": {
            "deleting": false
          }
        },
        "gather": {
          "logged": 1675546348192
        }
      }
    },
    {
      "cell_type": "code",
      "source": [
        "if __name__ == \"__main__\":\r\n",
        "    # list of dictionaries \r\n",
        "    # fraud : 'App_Id' , 'Reason' , 'Probability' , 'Accuracy'\r\n",
        "    # clone : 'App_Id_Clone' , 'App_Id_Real' , 'Reason' , 'Attribute of Reason'\r\n",
        "\r\n",
        "    fraud_dict = [{'Sl_No': '1','App_Id' : 'id1', 'Reason' : 'r1', 'Probability' : 'p1'},\r\n",
        "                {'Sl_No': '2','App_Id' : 'id2', 'Reason' : 'r2', 'Probability' : 'p2'},\r\n",
        "                {'Sl_No': '3','App_Id' : 'id3', 'Reason' : 'r3', 'Probability' : 'p3'},\r\n",
        "                {'Sl_No': '4','App_Id' : 'id4', 'Reason' : 'r4', 'Probability' : 'p4'}]\r\n",
        "\r\n",
        "    clone_dict = [{'Sl_No': '1','App_Id_Clone' : 'id1', 'App_Id_Real' : 'id1', 'Reason' : 'r1', 'Attribute' : 'p1'},\r\n",
        "                {'Sl_No': '2','App_Id_Clone' : 'id2', 'App_Id_Real' : 'id2', 'Reason' : 'r2', 'Attribute' : 'p2'},\r\n",
        "                {'Sl_No': '3','App_Id_Clone' : 'id3', 'App_Id_Real' : 'id3', 'Reason' : 'r3', 'Attribute' : 'p3'},\r\n",
        "                {'Sl_No': '4','App_Id_Clone' : 'id4', 'App_Id_Real' : 'id4', 'Reason' : 'r4', 'Attribute' : 'p4'}]\r\n",
        "\r\n",
        "    fraud_fields = ['Sl_No','App_Id','Reason','Probability']\r\n",
        "    clone_fields = ['Sl_No','App_Id_Clone','App_Id_Real','Reason','Attribute']\r\n",
        "    \r\n",
        "    fraud_path = 'csv_files/fraud_file.csv'\r\n",
        "    clone_path = 'csv_files/clone_file.csv'\r\n",
        "    \r\n",
        "    FROM = '4suhask1@gmail.com'\r\n",
        "    PASS = 'mxhpvnpramuwkofe'\r\n",
        "    TO = 'PES2202101231@pesu.pes.edu'\r\n",
        "\r\n",
        "    make_csv(fraud_path, fraud_dict, fraud_fields)\r\n",
        "    make_csv(clone_path, clone_dict, clone_fields)\r\n",
        "    send_csv(FROM, TO, PASS, [fraud_path, clone_path])"
      ],
      "outputs": [],
      "execution_count": 3,
      "metadata": {
        "jupyter": {
          "source_hidden": false,
          "outputs_hidden": false
        },
        "nteract": {
          "transient": {
            "deleting": false
          }
        },
        "gather": {
          "logged": 1675535807011
        }
      }
    }
  ],
  "metadata": {
    "kernelspec": {
      "name": "python310-sdkv2",
      "language": "python",
      "display_name": "Python 3.10 - SDK v2"
    },
    "language_info": {
      "name": "python",
      "version": "3.10.9",
      "mimetype": "text/x-python",
      "codemirror_mode": {
        "name": "ipython",
        "version": 3
      },
      "pygments_lexer": "ipython3",
      "nbconvert_exporter": "python",
      "file_extension": ".py"
    },
    "kernel_info": {
      "name": "python310-sdkv2"
    },
    "microsoft": {
      "host": {
        "AzureML": {
          "notebookHasBeenCompleted": true
        }
      }
    },
    "nteract": {
      "version": "nteract-front-end@1.0.0"
    }
  },
  "nbformat": 4,
  "nbformat_minor": 2
}