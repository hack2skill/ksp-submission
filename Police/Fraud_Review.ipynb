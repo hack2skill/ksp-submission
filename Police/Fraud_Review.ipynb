{
  "cells": [
    {
      "cell_type": "code",
      "execution_count": 7,
      "metadata": {
        "gather": {
          "logged": 1675557722768
        },
        "jupyter": {
          "outputs_hidden": false,
          "source_hidden": false
        },
        "nteract": {
          "transient": {
            "deleting": false
          }
        }
      },
      "outputs": [],
      "source": [
        "from google_play_scraper import Sort, reviews, app\n",
        "import pandas as pd\n",
        "import pickle\n",
        "\n",
        "def fraud_review(app_id):\n",
        "  scd=[]\n",
        "  app_packages=[app_id]\n",
        "  for i in app_packages:\n",
        "    result = app(i,\n",
        "      lang='en', # defaults to 'en'\n",
        "      country='in') # defaults to 'us'\n",
        "    scd.append(result)\n",
        "  df_master=pd.DataFrame(scd)\n",
        "  df = df_master\n",
        "  rvsum=0\n",
        "  for j in range(0,len(df)):\n",
        "    rvsum+=df['reviews'].loc[j]\n",
        "  app_reviews = []\n",
        "\n",
        "  for ap in (app_packages):\n",
        "    for score in list(range(1, 6)):\n",
        "      for sort_order in [Sort.MOST_RELEVANT, Sort.NEWEST]:\n",
        "        rvs, _ = reviews(\n",
        "          ap,\n",
        "          lang='en',\n",
        "          country='in',\n",
        "          sort=sort_order,\n",
        "          count= 200 if score == 3 else 100,\n",
        "          filter_score_with=score\n",
        "        )\n",
        "        for r in rvs:\n",
        "          r['sortOrder'] = 'most_relevant' if sort_order == Sort.MOST_RELEVANT else 'newest'\n",
        "          r['appId'] = ap\n",
        "          #print(r)\n",
        "        app_reviews.extend(rvs)\n",
        "        \n",
        "  df_app=pd.DataFrame(app_reviews)    \n",
        "  vec = pickle.load(open(\"Fraud_Review_1.pkl\",\"rb\"))\n",
        "  con = vec.transform(df_app['content'])\n",
        "  sca = pickle.load(open(\"Fraud_Review_2.pkl\",\"rb\")) ##Scaler Load\n",
        "  con = sca.transform(con)\n",
        "  lrm = pickle.load(open(\"Fraud_Review_3.pkl\",\"rb\"))  ##Lr Load\n",
        "  pred= lrm.predict(con)\n",
        "\n",
        "  avg_score=(sum(pred))/len(pred)  \n",
        "  \n",
        "  return avg_score"
      ]
    },
    {
      "cell_type": "code",
      "execution_count": null,
      "metadata": {
        "gather": {
          "logged": 1675557728689
        },
        "jupyter": {
          "outputs_hidden": false,
          "source_hidden": false
        },
        "nteract": {
          "transient": {
            "deleting": false
          }
        }
      },
      "outputs": [],
      "source": [
        "if __name__ == \"__main__\":\n",
        "    app_id = 'com.kotak.kst'\n",
        "    print(fraud_review(app_id))"
      ]
    }
  ],
  "metadata": {
    "kernel_info": {
      "name": "python310-sdkv2"
    },
    "kernelspec": {
      "display_name": "Python 3.10 - SDK v2",
      "language": "python",
      "name": "python310-sdkv2"
    },
    "language_info": {
      "codemirror_mode": {
        "name": "ipython",
        "version": 3
      },
      "file_extension": ".py",
      "mimetype": "text/x-python",
      "name": "python",
      "nbconvert_exporter": "python",
      "pygments_lexer": "ipython3",
      "version": "3.10.9"
    },
    "microsoft": {
      "host": {
        "AzureML": {
          "notebookHasBeenCompleted": true
        }
      }
    },
    "nteract": {
      "version": "nteract-front-end@1.0.0"
    }
  },
  "nbformat": 4,
  "nbformat_minor": 2
}
