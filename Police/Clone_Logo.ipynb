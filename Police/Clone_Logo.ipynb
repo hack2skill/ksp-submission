{
  "cells": [
    {
      "cell_type": "code",
      "source": [
        "# pip install google_play_scraper"
      ],
      "outputs": [
        {
          "output_type": "stream",
          "name": "stdout",
          "text": "Requirement already satisfied: google_play_scraper in /anaconda/envs/azureml_py310_sdkv2/lib/python3.10/site-packages (1.2.3)\nNote: you may need to restart the kernel to use updated packages.\n"
        }
      ],
      "execution_count": 3,
      "metadata": {
        "gather": {
          "logged": 1675582310486
        }
      }
    },
    {
      "cell_type": "code",
      "source": [
        "from google_play_scraper import app\n",
        "import urllib\n",
        "import numpy as np \n",
        "import cv2\n",
        "from skimage.metrics import structural_similarity\n",
        "\n",
        "def get_icon(app_info, fname):\n",
        "  urllib.request.urlretrieve(app_info['icon'], fname)\n",
        "\n",
        "def per_sim(fname1,fname2):\n",
        "    img1 = cv2.imread(fname1)\n",
        "    img2 = cv2.imread(fname2)\n",
        "    if not img1.shape == img2.shape:\n",
        "        return -1\n",
        "    sim = structural_similarity(img1, img2, full = True, win_size = 3)\n",
        "    return sim[0]\n",
        "\n",
        "def crop_icon(fname):\n",
        "    img1 = cv2.imread(fname)\n",
        "    crop = img1[64:448, 64:448]\n",
        "    cv2.imwrite(fname, crop) \n",
        "\n",
        "def clone_logo(app_id, app_id_good, fname1, fname2):\n",
        "    \n",
        "    app_info = app(app_id, lang='en', country='in')\n",
        "    app_icon = fname1\n",
        "    app_icon_good = fname2\n",
        "    get_icon(app_info, app_icon) \n",
        "    crop_icon(app_icon)\n",
        "    \n",
        "    sim_arr = []\n",
        "\n",
        "    max_sim = 0\n",
        "    max_app_id = ''\n",
        "\n",
        "    for i in app_id_good:\n",
        "        if i != app_id:\n",
        "            app_info_good = app(i, lang='en', country='in') \n",
        "            get_icon(app_info_good, app_icon_good)\n",
        "            crop_icon(app_icon_good)\n",
        "            sim = per_sim(app_icon,app_icon_good)\n",
        "\n",
        "            if max_sim < sim:\n",
        "                max_sim = sim\n",
        "                max_app_id = i\n",
        "    \n",
        "    if max_sim > 0.75:\n",
        "        return max_sim, max_app_id\n",
        "    else:\n",
        "        return 0,''"
      ],
      "outputs": [],
      "execution_count": 9,
      "metadata": {
        "jupyter": {
          "source_hidden": false,
          "outputs_hidden": false
        },
        "nteract": {
          "transient": {
            "deleting": false
          }
        },
        "gather": {
          "logged": 1675963306956
        }
      }
    },
    {
      "cell_type": "code",
      "source": [
        "if __name__ == \"__main__\":\r\n",
        "    # app_id = 'com.kreditbee.android'\r\n",
        "    # apps_id_good =['com.kreditbee.android', 'com.citrus.citruspay', 'org.altruist.BajajExperia', 'com.gopaysense.android.boost', 'com.naviapp', 'com.bharatpe.app', 'com.kreditzy.android', 'com.moneytap.bnpl.app', 'com.stashfin.android', 'com.avail.easyloans.android', 'in.rebase.app', 'com.rupeek.customer', 'com.rupeeredee.app', 'in.zestmoney.android.zestlife', 'in.amazon.mShop.android.shopping', 'com.freecharge.android', 'com.axis.mobile', 'com.msf.kbank.mobile', 'com.upi.axispay', 'com.sbi.SBIFreedomPlus', 'com.sbi.lotusintouch', 'com.csam.icici.bank.imobile', 'com.dreamplug.androidapp', 'indwin.c3.shareapp', 'com.vaibhavkalpe.android.khatabook', 'money.jupiter', 'in.epaylater.android.retailer.generic', 'co.tslc.cashe.android', 'com.habile.cloudbankin.digimoney', 'com.lightning.lightningrupee', 'com.moneyloji.loanservice', 'com.app.buenofinance', 'com.loaney.app', 'ng.com.fairmoney.fairmoney', 'com.flipkart.shopsy', 'com.flipkart.android', 'com.myntra.android', 'com.ril.ajio', 'com.meesho.supply', 'com.fsn.nds', 'com.snapdeal.main', 'com.tul.tatacliq', 'com.shopclues', 'live.video.shopping.simsim', 'mobile.qoo10.qstlin', 'booksfortune.bookchor', 'com.tatadigital.tcp', 'com.olx.southasia', 'com.jpl.jiomart',\r\n",
        "    #  'com.nextbillion.groww', 'in.upstox.app', 'com.kotak.kst', 'com.dhan.live', 'com.zerodha.kite3', 'com.dream11.fantasy.cricket.football.kabaddi', 'in.myteam11.store', 'com.fantasycricketapp.ballebaazi', 'com.games24x7.my11circle.fantasycricket', 'com.gamezy.lite', 'com.ruby.rummy', 'com.howzat.fantasycricketcashgame']\r\n",
        "\r\n",
        "    app_id = 'com.fastfun.tetris'\r\n",
        "    apps_id_good = ['puzzle.blockpuzzle.cube.relax']\r\n",
        "\r\n",
        "    app_icon = 'buffers/logo1.png'\r\n",
        "    app_icon_good = 'buffers/logo2.png'\r\n",
        "\r\n",
        "    x,y = clone_logo(app_id, apps_id_good, app_icon, app_icon_good)\r\n",
        "    print(x,y)"
      ],
      "outputs": [
        {
          "output_type": "stream",
          "name": "stderr",
          "text": "libpng warning: iCCP: known incorrect sRGB profile\n"
        },
        {
          "output_type": "stream",
          "name": "stdout",
          "text": "0.6762063865258935 puzzle.blockpuzzle.cube.relax\n"
        }
      ],
      "execution_count": 10,
      "metadata": {
        "jupyter": {
          "source_hidden": false,
          "outputs_hidden": false
        },
        "nteract": {
          "transient": {
            "deleting": false
          }
        },
        "gather": {
          "logged": 1675963342853
        }
      }
    }
  ],
  "metadata": {
    "kernelspec": {
      "name": "python310-sdkv2",
      "language": "python",
      "display_name": "Python 3.10 - SDK v2"
    },
    "language_info": {
      "name": "python",
      "version": "3.10.9",
      "mimetype": "text/x-python",
      "codemirror_mode": {
        "name": "ipython",
        "version": 3
      },
      "pygments_lexer": "ipython3",
      "nbconvert_exporter": "python",
      "file_extension": ".py"
    },
    "kernel_info": {
      "name": "python310-sdkv2"
    },
    "microsoft": {
      "host": {
        "AzureML": {
          "notebookHasBeenCompleted": true
        }
      }
    },
    "nteract": {
      "version": "nteract-front-end@1.0.0"
    }
  },
  "nbformat": 4,
  "nbformat_minor": 2
}