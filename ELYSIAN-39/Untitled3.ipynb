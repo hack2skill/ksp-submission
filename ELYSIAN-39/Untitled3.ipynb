{
 "cells": [
  {
   "cell_type": "code",
   "execution_count": 242,
   "id": "8a016e83",
   "metadata": {},
   "outputs": [],
   "source": [
    "import pandas as pd\n",
    "import matplotlib.pyplot as plt\n",
    "import seaborn as sns\n",
    "%matplotlib inline "
   ]
  },
  {
   "cell_type": "code",
   "execution_count": 243,
   "id": "feafbf94",
   "metadata": {},
   "outputs": [],
   "source": [
    "xls = pd.ExcelFile('Sample_Bank_Statements.xlsx')"
   ]
  },
  {
   "cell_type": "code",
   "execution_count": 244,
   "id": "2b96ff6b",
   "metadata": {},
   "outputs": [
    {
     "data": {
      "text/plain": [
       "['Sheet1',\n",
       " 'HDFC Bank Headers',\n",
       " 'ICICI Bank Headers',\n",
       " 'United Services Headers',\n",
       " 'State Bank of India Headers',\n",
       " 'Canara Headers',\n",
       " 'BOI Headers']"
      ]
     },
     "execution_count": 244,
     "metadata": {},
     "output_type": "execute_result"
    }
   ],
   "source": [
    "xls.sheet_names "
   ]
  },
  {
   "cell_type": "code",
   "execution_count": 245,
   "id": "d42003d6",
   "metadata": {},
   "outputs": [],
   "source": [
    "df1 = pd.read_excel(xls,'Sheet1')"
   ]
  },
  {
   "cell_type": "code",
   "execution_count": 246,
   "id": "65d1324e",
   "metadata": {},
   "outputs": [],
   "source": [
    "df2 = pd.read_excel(xls,'HDFC Bank Headers')"
   ]
  },
  {
   "cell_type": "code",
   "execution_count": 247,
   "id": "03a45716",
   "metadata": {},
   "outputs": [],
   "source": [
    "df3 = pd.read_excel(xls,'ICICI Bank Headers')"
   ]
  },
  {
   "cell_type": "code",
   "execution_count": 248,
   "id": "50462c5e",
   "metadata": {},
   "outputs": [],
   "source": [
    "df4 = pd.read_excel(xls,'United Services Headers')"
   ]
  },
  {
   "cell_type": "code",
   "execution_count": 249,
   "id": "e71cbbed",
   "metadata": {},
   "outputs": [],
   "source": [
    "df5 = pd.read_excel(xls,'State Bank of India Headers')"
   ]
  },
  {
   "cell_type": "code",
   "execution_count": 257,
   "id": "7e94c120",
   "metadata": {},
   "outputs": [],
   "source": [
    "df_main = pd.DataFrame(columns=['Description','Deposit','Withdraw','Balance'])"
   ]
  },
  {
   "cell_type": "code",
   "execution_count": 251,
   "id": "fe04a422",
   "metadata": {},
   "outputs": [],
   "source": [
    "desc = ['Description','Particulars','Paticulars','Narration detaild','DESCRIPTION','Transaction Particulars']\n",
    "dep = ['Deposit','Deposits','Credit','Depodit Amt.','CREDITS']\n",
    "wit = ['Withdraw','Withdrawals','Debit','Withdrawal Amt.','DEBITS','Withdrawal']\n",
    "bal = ['Balance','BALANCE']\n",
    "dat = ['VALUE DATE','Date']"
   ]
  },
  {
   "cell_type": "code",
   "execution_count": 252,
   "id": "948616d6",
   "metadata": {},
   "outputs": [],
   "source": [
    "t = df_main"
   ]
  },
  {
   "cell_type": "code",
   "execution_count": 253,
   "id": "ae313110",
   "metadata": {},
   "outputs": [],
   "source": [
    "temp_d=[]\n",
    "temp_dep=[]\n",
    "temp_w = []\n",
    "temp_b = []\n",
    "temp_dat = []\n",
    "for i in xls.sheet_names:\n",
    "    xl_t = pd.read_excel(xls,i)\n",
    "    for j in desc:\n",
    "        if j in xl_t:\n",
    "            temp_d+=list(xl_t[j])\n",
    "    for j in dep:\n",
    "        if j in xl_t:\n",
    "            temp_dep+=list(xl_t[j])\n",
    "    for j in wit:\n",
    "        if j in xl_t:\n",
    "            temp_w+=list(xl_t[j])\n",
    "    for j in bal:\n",
    "        if j in xl_t:\n",
    "            temp_b+=list(xl_t[j])\n",
    "    for j in dat:\n",
    "        if j in xl_t:\n",
    "            temp_dat+=list(xl_t[j])"
   ]
  },
  {
   "cell_type": "code",
   "execution_count": 254,
   "id": "b06b26d0",
   "metadata": {},
   "outputs": [],
   "source": [
    "df_main['Description'] = temp_d\n",
    "df_main['Deposit'] = temp_dep\n",
    "df_main['Withdraw'] = temp_w\n",
    "df_main['Balance'] = temp_b\n",
    "df_main['Date'] = temp_dat "
   ]
  },
  {
   "cell_type": "code",
   "execution_count": 255,
   "id": "6c9fde9b",
   "metadata": {},
   "outputs": [],
   "source": [
    "s = ['Vijaya.csv','united.csv']"
   ]
  },
  {
   "cell_type": "code",
   "execution_count": 256,
   "id": "2f960fe6",
   "metadata": {},
   "outputs": [
    {
     "name": "stdout",
     "output_type": "stream",
     "text": [
      "226\n",
      "226\n",
      "530\n",
      "530\n"
     ]
    }
   ],
   "source": [
    "temp_d=[]\n",
    "temp_dep=[]\n",
    "temp_w = []\n",
    "temp_b = []\n",
    "temp_dat = []\n",
    "for i in s:\n",
    "    xl_t = pd.read_csv(i)\n",
    "    for j in desc:\n",
    "        if j in xl_t:\n",
    "            temp_d+=list(xl_t[j])\n",
    "            print(len(temp_d))\n",
    "    for j in dep:\n",
    "        if j in xl_t:\n",
    "            temp_dep+=list(xl_t[j])\n",
    "            print(len(temp_dep))\n",
    "    for j in wit:\n",
    "        if j in xl_t:\n",
    "            temp_w+=list(xl_t[j])\n",
    "    for j in bal:\n",
    "        if j in xl_t:\n",
    "            temp_b+=list(xl_t[j])\n",
    "    for j in dat:\n",
    "        if j in xl_t:\n",
    "            temp_dat+=list(xl_t[j])"
   ]
  },
  {
   "cell_type": "code",
   "execution_count": null,
   "id": "f4f4fd21",
   "metadata": {},
   "outputs": [],
   "source": []
  },
  {
   "cell_type": "code",
   "execution_count": 258,
   "id": "0f319390",
   "metadata": {},
   "outputs": [],
   "source": [
    "df_main['Description'] = temp_d\n",
    "df_main['Deposit'] = temp_dep\n",
    "df_main['Withdraw'] = temp_w\n",
    "df_main['Balance'] = temp_b\n",
    "df_main['Date'] = temp_dat "
   ]
  },
  {
   "cell_type": "code",
   "execution_count": 259,
   "id": "9ff0cabd",
   "metadata": {},
   "outputs": [],
   "source": [
    "df_main = df_main.astype(str)"
   ]
  },
  {
   "cell_type": "code",
   "execution_count": 260,
   "id": "fc9c8f00",
   "metadata": {},
   "outputs": [],
   "source": [
    "t = t.astype(str)"
   ]
  },
  {
   "cell_type": "code",
   "execution_count": 261,
   "id": "75bd8688",
   "metadata": {},
   "outputs": [],
   "source": [
    "df_main = pd.concat([t,df_main])"
   ]
  },
  {
   "cell_type": "code",
   "execution_count": 121,
   "id": "5b335e5c",
   "metadata": {},
   "outputs": [],
   "source": [
    "df_main['Description'] = list(df1['Particulars'])+list(df2['Paticulars'])+list(df3['Narration detaild'])+list(df4['DESCRIPTION'])+list(df5['Description'])"
   ]
  },
  {
   "cell_type": "code",
   "execution_count": 80,
   "id": "5caa881e",
   "metadata": {},
   "outputs": [],
   "source": [
    "df_main['Deposit'] = list(df1['Deposits'])+list(df2['Credit'])+list(df3['Depodit Amt.'])+list(df4['CREDITS'])+list(df5['Deposit'])"
   ]
  },
  {
   "cell_type": "code",
   "execution_count": 81,
   "id": "d4854333",
   "metadata": {},
   "outputs": [],
   "source": [
    "df_main['Withdraw'] = list(df1['Withdrawals'])+list(df2['Debit'])+list(df3['Withdrawal Amt.'])+list(df4['DEBITS'])+list(df5['Withdrawal'])"
   ]
  },
  {
   "cell_type": "code",
   "execution_count": 82,
   "id": "7f8e349b",
   "metadata": {},
   "outputs": [],
   "source": [
    "df_main['Balance'] = list(df1['Balance'])+list(df2['Balance'])+list(df3['Balance'])+list(df4['BALANCE'])+list(df5['Balance'])"
   ]
  },
  {
   "cell_type": "code",
   "execution_count": 83,
   "id": "6ec219a6",
   "metadata": {},
   "outputs": [],
   "source": [
    "df_main['Date'] = list(df1['Date'])+list(df2['Date'])+list(df3['Date'])+list(df4['VALUE DATE'])+list(df5['Date'])"
   ]
  },
  {
   "cell_type": "code",
   "execution_count": 262,
   "id": "10a4e127",
   "metadata": {},
   "outputs": [],
   "source": [
    "df = df_main"
   ]
  },
  {
   "cell_type": "code",
   "execution_count": 263,
   "id": "4e5ae46c",
   "metadata": {},
   "outputs": [],
   "source": [
    "df['Deposit'] = df['Deposit'].astype(str)"
   ]
  },
  {
   "cell_type": "code",
   "execution_count": 264,
   "id": "f676e35e",
   "metadata": {},
   "outputs": [],
   "source": [
    "df['Deposit'] = df['Deposit'].map(lambda x: x.rstrip('Cr').rstrip('Dr').replace(',', ''))"
   ]
  },
  {
   "cell_type": "code",
   "execution_count": 265,
   "id": "fb91d8f6",
   "metadata": {},
   "outputs": [],
   "source": [
    "df['Deposit'] = df['Deposit'].astype(float)"
   ]
  },
  {
   "cell_type": "code",
   "execution_count": 266,
   "id": "303e94ad",
   "metadata": {},
   "outputs": [
    {
     "data": {
      "text/plain": [
       "171396.0"
      ]
     },
     "execution_count": 266,
     "metadata": {},
     "output_type": "execute_result"
    }
   ],
   "source": [
    "df['Deposit'].max()"
   ]
  },
  {
   "cell_type": "code",
   "execution_count": 267,
   "id": "b28e91bb",
   "metadata": {},
   "outputs": [],
   "source": [
    "df['Withdraw'] = df['Withdraw'].astype(str)"
   ]
  },
  {
   "cell_type": "code",
   "execution_count": 268,
   "id": "e9832105",
   "metadata": {},
   "outputs": [],
   "source": [
    "df['Withdraw'] = df['Withdraw'].map(lambda x: x.rstrip('Cr').rstrip('Dr').replace(',', ''))"
   ]
  },
  {
   "cell_type": "code",
   "execution_count": 269,
   "id": "36ac0cb0",
   "metadata": {},
   "outputs": [],
   "source": [
    "df['Withdraw'] = df['Withdraw'].astype(float)"
   ]
  },
  {
   "cell_type": "code",
   "execution_count": 270,
   "id": "1641638d",
   "metadata": {},
   "outputs": [
    {
     "data": {
      "text/plain": [
       "150000.0"
      ]
     },
     "execution_count": 270,
     "metadata": {},
     "output_type": "execute_result"
    }
   ],
   "source": [
    "df['Withdraw'].max()"
   ]
  },
  {
   "cell_type": "code",
   "execution_count": 271,
   "id": "9df250d2",
   "metadata": {},
   "outputs": [
    {
     "data": {
      "text/html": [
       "<div>\n",
       "<style scoped>\n",
       "    .dataframe tbody tr th:only-of-type {\n",
       "        vertical-align: middle;\n",
       "    }\n",
       "\n",
       "    .dataframe tbody tr th {\n",
       "        vertical-align: top;\n",
       "    }\n",
       "\n",
       "    .dataframe thead th {\n",
       "        text-align: right;\n",
       "    }\n",
       "</style>\n",
       "<table border=\"1\" class=\"dataframe\">\n",
       "  <thead>\n",
       "    <tr style=\"text-align: right;\">\n",
       "      <th></th>\n",
       "      <th>Description</th>\n",
       "      <th>Deposit</th>\n",
       "      <th>Withdraw</th>\n",
       "      <th>Balance</th>\n",
       "      <th>Date</th>\n",
       "    </tr>\n",
       "  </thead>\n",
       "  <tbody>\n",
       "    <tr>\n",
       "      <th>494</th>\n",
       "      <td>CHQ PAID SELF-VIKASPURI</td>\n",
       "      <td>0.0</td>\n",
       "      <td>150000.0</td>\n",
       "      <td>66,774.00</td>\n",
       "      <td>06-JUN-2017</td>\n",
       "    </tr>\n",
       "  </tbody>\n",
       "</table>\n",
       "</div>"
      ],
      "text/plain": [
       "                 Description  Deposit  Withdraw    Balance         Date\n",
       "494  CHQ PAID SELF-VIKASPURI      0.0  150000.0  66,774.00  06-JUN-2017"
      ]
     },
     "execution_count": 271,
     "metadata": {},
     "output_type": "execute_result"
    }
   ],
   "source": [
    "df[df['Withdraw']==df['Withdraw'].max()]"
   ]
  },
  {
   "cell_type": "code",
   "execution_count": 272,
   "id": "ef967cb3",
   "metadata": {},
   "outputs": [],
   "source": [
    "df['Balance'] = df['Balance'].astype(str)"
   ]
  },
  {
   "cell_type": "code",
   "execution_count": 273,
   "id": "64e0db94",
   "metadata": {},
   "outputs": [],
   "source": [
    "df['Balance'] = df['Balance'].map(lambda x: x.rstrip('Cr').rstrip('Dr').replace(',', ''))"
   ]
  },
  {
   "cell_type": "code",
   "execution_count": 274,
   "id": "5793c2c5",
   "metadata": {},
   "outputs": [],
   "source": [
    "df['Balance'] = df['Balance'].astype(float)"
   ]
  },
  {
   "cell_type": "code",
   "execution_count": null,
   "id": "417dccca",
   "metadata": {},
   "outputs": [],
   "source": []
  },
  {
   "cell_type": "code",
   "execution_count": 97,
   "id": "fb5ab81a",
   "metadata": {},
   "outputs": [],
   "source": [
    "df['Account'] = ['Hack2Skill']*len(df1)+['HDFC']*len(df2)+['ICICI']*len(df3)+['United Services']*len(df4)+['State Bank of Inida']*len(df5)"
   ]
  },
  {
   "cell_type": "code",
   "execution_count": 275,
   "id": "340becca",
   "metadata": {},
   "outputs": [],
   "source": [
    "df_main = df_main.fillna(0)"
   ]
  },
  {
   "cell_type": "code",
   "execution_count": 99,
   "id": "8197ab45",
   "metadata": {},
   "outputs": [],
   "source": [
    "# df.to_csv('bank_consolidated.csv')"
   ]
  },
  {
   "cell_type": "code",
   "execution_count": 276,
   "id": "9ed2059b",
   "metadata": {},
   "outputs": [
    {
     "data": {
      "text/html": [
       "<div>\n",
       "<style scoped>\n",
       "    .dataframe tbody tr th:only-of-type {\n",
       "        vertical-align: middle;\n",
       "    }\n",
       "\n",
       "    .dataframe tbody tr th {\n",
       "        vertical-align: top;\n",
       "    }\n",
       "\n",
       "    .dataframe thead th {\n",
       "        text-align: right;\n",
       "    }\n",
       "</style>\n",
       "<table border=\"1\" class=\"dataframe\">\n",
       "  <thead>\n",
       "    <tr style=\"text-align: right;\">\n",
       "      <th></th>\n",
       "      <th>index</th>\n",
       "      <th>Description</th>\n",
       "      <th>Deposit</th>\n",
       "      <th>Withdraw</th>\n",
       "      <th>Balance</th>\n",
       "      <th>Date</th>\n",
       "    </tr>\n",
       "  </thead>\n",
       "  <tbody>\n",
       "    <tr>\n",
       "      <th>0</th>\n",
       "      <td>0</td>\n",
       "      <td>Opening Balance</td>\n",
       "      <td>0.0</td>\n",
       "      <td>0.0</td>\n",
       "      <td>0.0</td>\n",
       "      <td>NaT</td>\n",
       "    </tr>\n",
       "    <tr>\n",
       "      <th>1</th>\n",
       "      <td>1</td>\n",
       "      <td>UPI IN/21fv269741152/satish21tm@okaxis/truck/0000</td>\n",
       "      <td>6139.0</td>\n",
       "      <td>0.0</td>\n",
       "      <td>6139.0</td>\n",
       "      <td>2022-04-12</td>\n",
       "    </tr>\n",
       "    <tr>\n",
       "      <th>2</th>\n",
       "      <td>2</td>\n",
       "      <td>UPI IN/2erg71992885/satish21tm@okaxis/pickup/0000</td>\n",
       "      <td>6800.0</td>\n",
       "      <td>0.0</td>\n",
       "      <td>12939.0</td>\n",
       "      <td>2022-04-12</td>\n",
       "    </tr>\n",
       "    <tr>\n",
       "      <th>3</th>\n",
       "      <td>3</td>\n",
       "      <td>IFN/B2CSat202204160grg132HMgF EPIFI TECHNOLOGI...</td>\n",
       "      <td>61.0</td>\n",
       "      <td>0.0</td>\n",
       "      <td>13000.0</td>\n",
       "      <td>2022-04-16</td>\n",
       "    </tr>\n",
       "    <tr>\n",
       "      <th>4</th>\n",
       "      <td>4</td>\n",
       "      <td>UPIOUT/210606gre560/luckylav18-1@oksbi/UPI/0000</td>\n",
       "      <td>0.0</td>\n",
       "      <td>110.0</td>\n",
       "      <td>12890.0</td>\n",
       "      <td>2022-04-16</td>\n",
       "    </tr>\n",
       "    <tr>\n",
       "      <th>...</th>\n",
       "      <td>...</td>\n",
       "      <td>...</td>\n",
       "      <td>...</td>\n",
       "      <td>...</td>\n",
       "      <td>...</td>\n",
       "      <td>...</td>\n",
       "    </tr>\n",
       "    <tr>\n",
       "      <th>649</th>\n",
       "      <td>525</td>\n",
       "      <td>ACCOUNTS-BARBH17158491788</td>\n",
       "      <td>0.0</td>\n",
       "      <td>0.0</td>\n",
       "      <td>0.0</td>\n",
       "      <td>nan</td>\n",
       "    </tr>\n",
       "    <tr>\n",
       "      <th>650</th>\n",
       "      <td>526</td>\n",
       "      <td>IMPS/MANISH</td>\n",
       "      <td>100.0</td>\n",
       "      <td>0.0</td>\n",
       "      <td>228954.0</td>\n",
       "      <td>07-JUN-2017</td>\n",
       "    </tr>\n",
       "    <tr>\n",
       "      <th>651</th>\n",
       "      <td>527</td>\n",
       "      <td>SHARMAMANISH/XXX1778/RRN:7158176987</td>\n",
       "      <td>0.0</td>\n",
       "      <td>0.0</td>\n",
       "      <td>0.0</td>\n",
       "      <td>nan</td>\n",
       "    </tr>\n",
       "    <tr>\n",
       "      <th>652</th>\n",
       "      <td>528</td>\n",
       "      <td>58/</td>\n",
       "      <td>0.0</td>\n",
       "      <td>0.0</td>\n",
       "      <td>0.0</td>\n",
       "      <td>nan</td>\n",
       "    </tr>\n",
       "    <tr>\n",
       "      <th>653</th>\n",
       "      <td>529</td>\n",
       "      <td>CASH DEP-MANJALPUR</td>\n",
       "      <td>11199.0</td>\n",
       "      <td>0.0</td>\n",
       "      <td>240153.0</td>\n",
       "      <td>08-JUN-2017</td>\n",
       "    </tr>\n",
       "  </tbody>\n",
       "</table>\n",
       "<p>654 rows × 6 columns</p>\n",
       "</div>"
      ],
      "text/plain": [
       "     index                                        Description  Deposit  \\\n",
       "0        0                                    Opening Balance      0.0   \n",
       "1        1  UPI IN/21fv269741152/satish21tm@okaxis/truck/0000   6139.0   \n",
       "2        2  UPI IN/2erg71992885/satish21tm@okaxis/pickup/0000   6800.0   \n",
       "3        3  IFN/B2CSat202204160grg132HMgF EPIFI TECHNOLOGI...     61.0   \n",
       "4        4    UPIOUT/210606gre560/luckylav18-1@oksbi/UPI/0000      0.0   \n",
       "..     ...                                                ...      ...   \n",
       "649    525                          ACCOUNTS-BARBH17158491788      0.0   \n",
       "650    526                                        IMPS/MANISH    100.0   \n",
       "651    527                SHARMAMANISH/XXX1778/RRN:7158176987      0.0   \n",
       "652    528                                                58/      0.0   \n",
       "653    529                                 CASH DEP-MANJALPUR  11199.0   \n",
       "\n",
       "     Withdraw   Balance         Date  \n",
       "0         0.0       0.0          NaT  \n",
       "1         0.0    6139.0   2022-04-12  \n",
       "2         0.0   12939.0   2022-04-12  \n",
       "3         0.0   13000.0   2022-04-16  \n",
       "4       110.0   12890.0   2022-04-16  \n",
       "..        ...       ...          ...  \n",
       "649       0.0       0.0          nan  \n",
       "650       0.0  228954.0  07-JUN-2017  \n",
       "651       0.0       0.0          nan  \n",
       "652       0.0       0.0          nan  \n",
       "653       0.0  240153.0  08-JUN-2017  \n",
       "\n",
       "[654 rows x 6 columns]"
      ]
     },
     "execution_count": 276,
     "metadata": {},
     "output_type": "execute_result"
    }
   ],
   "source": [
    "df_main.reset_index()"
   ]
  },
  {
   "cell_type": "code",
   "execution_count": 277,
   "id": "9a01ad2b",
   "metadata": {},
   "outputs": [],
   "source": [
    "df_main.to_csv('BANK_STATEMENTS.csv')"
   ]
  },
  {
   "cell_type": "code",
   "execution_count": 239,
   "id": "1693ac36",
   "metadata": {},
   "outputs": [
    {
     "data": {
      "text/html": [
       "<div>\n",
       "<style scoped>\n",
       "    .dataframe tbody tr th:only-of-type {\n",
       "        vertical-align: middle;\n",
       "    }\n",
       "\n",
       "    .dataframe tbody tr th {\n",
       "        vertical-align: top;\n",
       "    }\n",
       "\n",
       "    .dataframe thead th {\n",
       "        text-align: right;\n",
       "    }\n",
       "</style>\n",
       "<table border=\"1\" class=\"dataframe\">\n",
       "  <thead>\n",
       "    <tr style=\"text-align: right;\">\n",
       "      <th></th>\n",
       "      <th>Description</th>\n",
       "      <th>Deposit</th>\n",
       "      <th>Withdraw</th>\n",
       "      <th>Balance</th>\n",
       "      <th>Date</th>\n",
       "    </tr>\n",
       "  </thead>\n",
       "  <tbody>\n",
       "    <tr>\n",
       "      <th>0</th>\n",
       "      <td>nan</td>\n",
       "      <td>nan</td>\n",
       "      <td>9,923.60</td>\n",
       "      <td>5,480.20</td>\n",
       "      <td>06/11/2018 NFSD/S1BW000213//15:07:35/831015008206</td>\n",
       "    </tr>\n",
       "    <tr>\n",
       "      <th>1</th>\n",
       "      <td>nan</td>\n",
       "      <td>nan</td>\n",
       "      <td>4,923.60</td>\n",
       "      <td>556.60</td>\n",
       "      <td>06/11/2018 NFSD/S1BW000213//15:08:20/831015008235</td>\n",
       "    </tr>\n",
       "    <tr>\n",
       "      <th>2</th>\n",
       "      <td>06/11/2018 IMPS/831017082581/P2A/MWK/ne Mobikw...</td>\n",
       "      <td>4,500.00</td>\n",
       "      <td>nan</td>\n",
       "      <td>5,056.60</td>\n",
       "      <td>nan</td>\n",
       "    </tr>\n",
       "    <tr>\n",
       "      <th>3</th>\n",
       "      <td>06/11/2018 IMPS/831017214710/P2A/PTM/EKH FAJLU...</td>\n",
       "      <td>5,000.00</td>\n",
       "      <td>nan</td>\n",
       "      <td>10,056.60</td>\n",
       "      <td>nan</td>\n",
       "    </tr>\n",
       "    <tr>\n",
       "      <th>4</th>\n",
       "      <td>06/11/2018 IMPS/831017216194/P2A/PTM/EKH FAJLU...</td>\n",
       "      <td>5,000.00</td>\n",
       "      <td>nan</td>\n",
       "      <td>15,056.60</td>\n",
       "      <td>nan</td>\n",
       "    </tr>\n",
       "    <tr>\n",
       "      <th>...</th>\n",
       "      <td>...</td>\n",
       "      <td>...</td>\n",
       "      <td>...</td>\n",
       "      <td>...</td>\n",
       "      <td>...</td>\n",
       "    </tr>\n",
       "    <tr>\n",
       "      <th>119</th>\n",
       "      <td>EXCESS DR IN SB</td>\n",
       "      <td>nan</td>\n",
       "      <td>18.0</td>\n",
       "      <td>6578.1</td>\n",
       "      <td>2016-02-07</td>\n",
       "    </tr>\n",
       "    <tr>\n",
       "      <th>120</th>\n",
       "      <td>ATM WDL /ATM CASH 2891 NEHRU STREET CHENNAI</td>\n",
       "      <td>nan</td>\n",
       "      <td>5500.0</td>\n",
       "      <td>1078.1</td>\n",
       "      <td>2016-02-08</td>\n",
       "    </tr>\n",
       "    <tr>\n",
       "      <th>121</th>\n",
       "      <td>ATM WDL /ATM CASH 9129 NEHARU STREET TARAMANI ...</td>\n",
       "      <td>nan</td>\n",
       "      <td>100.0</td>\n",
       "      <td>978.1</td>\n",
       "      <td>2016-02-09</td>\n",
       "    </tr>\n",
       "    <tr>\n",
       "      <th>122</th>\n",
       "      <td>ATM WDL /ATM CASH 9364 NEHARU STREET TARAMANI ...</td>\n",
       "      <td>nan</td>\n",
       "      <td>100.0</td>\n",
       "      <td>878.1</td>\n",
       "      <td>2016-02-10</td>\n",
       "    </tr>\n",
       "    <tr>\n",
       "      <th>123</th>\n",
       "      <td>ATM WDL /ATM CASH 3916 NEHRU STREET CHENNAI</td>\n",
       "      <td>nan</td>\n",
       "      <td>100.0</td>\n",
       "      <td>778.1</td>\n",
       "      <td>2016-02-12</td>\n",
       "    </tr>\n",
       "  </tbody>\n",
       "</table>\n",
       "<p>654 rows × 5 columns</p>\n",
       "</div>"
      ],
      "text/plain": [
       "                                           Description   Deposit  Withdraw  \\\n",
       "0                                                  nan       nan  9,923.60   \n",
       "1                                                  nan       nan  4,923.60   \n",
       "2    06/11/2018 IMPS/831017082581/P2A/MWK/ne Mobikw...  4,500.00       nan   \n",
       "3    06/11/2018 IMPS/831017214710/P2A/PTM/EKH FAJLU...  5,000.00       nan   \n",
       "4    06/11/2018 IMPS/831017216194/P2A/PTM/EKH FAJLU...  5,000.00       nan   \n",
       "..                                                 ...       ...       ...   \n",
       "119                                    EXCESS DR IN SB       nan      18.0   \n",
       "120        ATM WDL /ATM CASH 2891 NEHRU STREET CHENNAI       nan    5500.0   \n",
       "121  ATM WDL /ATM CASH 9129 NEHARU STREET TARAMANI ...       nan     100.0   \n",
       "122  ATM WDL /ATM CASH 9364 NEHARU STREET TARAMANI ...       nan     100.0   \n",
       "123        ATM WDL /ATM CASH 3916 NEHRU STREET CHENNAI       nan     100.0   \n",
       "\n",
       "       Balance                                               Date  \n",
       "0     5,480.20  06/11/2018 NFSD/S1BW000213//15:07:35/831015008206  \n",
       "1       556.60  06/11/2018 NFSD/S1BW000213//15:08:20/831015008235  \n",
       "2     5,056.60                                                nan  \n",
       "3    10,056.60                                                nan  \n",
       "4    15,056.60                                                nan  \n",
       "..         ...                                                ...  \n",
       "119     6578.1                                         2016-02-07  \n",
       "120     1078.1                                         2016-02-08  \n",
       "121      978.1                                         2016-02-09  \n",
       "122      878.1                                         2016-02-10  \n",
       "123      778.1                                         2016-02-12  \n",
       "\n",
       "[654 rows x 5 columns]"
      ]
     },
     "execution_count": 239,
     "metadata": {},
     "output_type": "execute_result"
    }
   ],
   "source": []
  },
  {
   "cell_type": "code",
   "execution_count": 278,
   "id": "693a6beb",
   "metadata": {},
   "outputs": [
    {
     "name": "stdout",
     "output_type": "stream",
     "text": [
      "Max Balance is 264298.0\n"
     ]
    }
   ],
   "source": [
    "print(\"Max Balance is \"+str(df['Balance'].max()))"
   ]
  },
  {
   "cell_type": "code",
   "execution_count": 279,
   "id": "901ed000",
   "metadata": {},
   "outputs": [
    {
     "data": {
      "text/html": [
       "<div>\n",
       "<style scoped>\n",
       "    .dataframe tbody tr th:only-of-type {\n",
       "        vertical-align: middle;\n",
       "    }\n",
       "\n",
       "    .dataframe tbody tr th {\n",
       "        vertical-align: top;\n",
       "    }\n",
       "\n",
       "    .dataframe thead th {\n",
       "        text-align: right;\n",
       "    }\n",
       "</style>\n",
       "<table border=\"1\" class=\"dataframe\">\n",
       "  <thead>\n",
       "    <tr style=\"text-align: right;\">\n",
       "      <th></th>\n",
       "      <th>Description</th>\n",
       "      <th>Deposit</th>\n",
       "      <th>Withdraw</th>\n",
       "      <th>Balance</th>\n",
       "      <th>Date</th>\n",
       "    </tr>\n",
       "  </thead>\n",
       "  <tbody>\n",
       "    <tr>\n",
       "      <th>391</th>\n",
       "      <td>CASH DEP-JAIPUR</td>\n",
       "      <td>10000.0</td>\n",
       "      <td>0.0</td>\n",
       "      <td>264298.0</td>\n",
       "      <td>03-JUN-2017</td>\n",
       "    </tr>\n",
       "  </tbody>\n",
       "</table>\n",
       "</div>"
      ],
      "text/plain": [
       "         Description  Deposit  Withdraw   Balance         Date\n",
       "391  CASH DEP-JAIPUR  10000.0       0.0  264298.0  03-JUN-2017"
      ]
     },
     "execution_count": 279,
     "metadata": {},
     "output_type": "execute_result"
    }
   ],
   "source": [
    "df[df['Balance']==df['Balance'].max()]"
   ]
  },
  {
   "cell_type": "code",
   "execution_count": 280,
   "id": "22fd0c1b",
   "metadata": {},
   "outputs": [
    {
     "name": "stdout",
     "output_type": "stream",
     "text": [
      "Min Balance is 264298.0\n"
     ]
    }
   ],
   "source": [
    "print(\"Min Balance is \" + str((df['Balance'].max())))"
   ]
  },
  {
   "cell_type": "code",
   "execution_count": 281,
   "id": "28865f8e",
   "metadata": {},
   "outputs": [
    {
     "name": "stdout",
     "output_type": "stream",
     "text": [
      "Max Withdrawal is 150000.0\n"
     ]
    }
   ],
   "source": [
    "print(\"Max Withdrawal is \" + str((df['Withdraw'].max())))"
   ]
  },
  {
   "cell_type": "code",
   "execution_count": 282,
   "id": "920bb979",
   "metadata": {},
   "outputs": [
    {
     "name": "stdout",
     "output_type": "stream",
     "text": [
      "Min Withdrawal is -60000.0\n"
     ]
    }
   ],
   "source": [
    "# print(\"Min Withdrawal is \" + str((df['Withdraw'].min())))"
   ]
  },
  {
   "cell_type": "code",
   "execution_count": 285,
   "id": "1a350eb4",
   "metadata": {},
   "outputs": [
    {
     "name": "stdout",
     "output_type": "stream",
     "text": [
      "Min Withdrawal is 0\n"
     ]
    }
   ],
   "source": [
    "print(\"Min Withdrawal is \" + str(0))"
   ]
  },
  {
   "cell_type": "code",
   "execution_count": 283,
   "id": "1904f01a",
   "metadata": {},
   "outputs": [
    {
     "name": "stdout",
     "output_type": "stream",
     "text": [
      "Max Deposit is 171396.0\n"
     ]
    }
   ],
   "source": [
    "print(\"Max Deposit is \" + str((df['Deposit'].max())))"
   ]
  },
  {
   "cell_type": "code",
   "execution_count": 284,
   "id": "105b9f98",
   "metadata": {},
   "outputs": [
    {
     "name": "stdout",
     "output_type": "stream",
     "text": [
      "Min Deposit is 0.0\n"
     ]
    }
   ],
   "source": [
    "print(\"Min Deposit is \" + str((df['Deposit'].min())))"
   ]
  },
  {
   "cell_type": "code",
   "execution_count": null,
   "id": "40ae6ff5",
   "metadata": {},
   "outputs": [],
   "source": []
  },
  {
   "cell_type": "code",
   "execution_count": null,
   "id": "95fda064",
   "metadata": {},
   "outputs": [],
   "source": []
  },
  {
   "cell_type": "code",
   "execution_count": null,
   "id": "e8796ece",
   "metadata": {},
   "outputs": [],
   "source": []
  },
  {
   "cell_type": "code",
   "execution_count": null,
   "id": "6e53f1e5",
   "metadata": {},
   "outputs": [],
   "source": []
  },
  {
   "cell_type": "code",
   "execution_count": null,
   "id": "ce83d1f1",
   "metadata": {},
   "outputs": [],
   "source": []
  },
  {
   "cell_type": "code",
   "execution_count": null,
   "id": "95d61cc0",
   "metadata": {},
   "outputs": [],
   "source": []
  },
  {
   "cell_type": "code",
   "execution_count": null,
   "id": "a5719024",
   "metadata": {},
   "outputs": [],
   "source": []
  }
 ],
 "metadata": {
  "kernelspec": {
   "display_name": "Python 3 (ipykernel)",
   "language": "python",
   "name": "python3"
  },
  "language_info": {
   "codemirror_mode": {
    "name": "ipython",
    "version": 3
   },
   "file_extension": ".py",
   "mimetype": "text/x-python",
   "name": "python",
   "nbconvert_exporter": "python",
   "pygments_lexer": "ipython3",
   "version": "3.9.7"
  }
 },
 "nbformat": 4,
 "nbformat_minor": 5
}
