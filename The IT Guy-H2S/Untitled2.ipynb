{
  "nbformat": 4,
  "nbformat_minor": 0,
  "metadata": {
    "colab": {
      "provenance": []
    },
    "kernelspec": {
      "name": "python3",
      "display_name": "Python 3"
    },
    "language_info": {
      "name": "python"
    }
  },
  "cells": [
    {
      "cell_type": "code",
      "source": [
        "from sklearn.metrics import balanced_accuracy_score\n",
        "# Import the necessary libraries\n",
        "import pandas as pd\n",
        "from sklearn.tree import DecisionTreeRegressor\n",
        "from sklearn.model_selection import train_test_split\n",
        "import matplotlib.pyplot as plt\n",
        "\n",
        "# Read the data in csv file\n",
        "data = pd.read_csv(\"/content/Cleaned_Vijaya Bank.csv\")\n",
        "print(data)\n",
        "\n",
        "# Replace all NaN values in data with 0\n",
        "data.fillna(0, inplace=True)\n",
        "\n",
        "# Define the features and labels\n",
        "features = data[['Debit', 'Credit', 'Balance']]\n",
        "labels = data['Balance']\n",
        "\n",
        "# Split the data into training and test sets\n",
        "X_train, X_test, y_train, y_test = train_test_split(features, labels, test_size = 0.2, random_state = 0)\n",
        "\n",
        "# Train the model using the DecisionTreeRegressor class\n",
        "regressor = DecisionTreeRegressor(random_state = 0)\n",
        "regressor.fit(X_train, y_train)\n",
        "\n",
        "# Predict the labels for the test data\n",
        "y_pred = regressor.predict(X_test)\n",
        "\n",
        "# Print the results\n",
        "print(y_pred)\n",
        "\n",
        "# Print the accuracy\n",
        "accuracy = regressor.score(X_test, y_test)\n",
        "print(\"accuracy=\")\n",
        "print(accuracy)\n",
        "# Calculate the frequency of transactions\n",
        "data['Transaction_Frequency'] = data['Debit']/data['Balance']\n",
        "print(\"Transaction_Frequency\")\n",
        "print(data['Transaction_Frequency'])\n",
        "plt.scatter(y_test, y_pred)\n",
        "plt.title(\"Balance vs y_pred\")\n",
        "plt.xlabel(\"Balance\")\n",
        "plt.ylabel(\"y_pred\")\n",
        "plt.show()"
      ],
      "metadata": {
        "colab": {
          "base_uri": "https://localhost:8080/",
          "height": 1000
        },
        "id": "eSQnzsUPNbWG",
        "outputId": "d316c7f5-7c66-4023-e277-dcd400604599"
      },
      "execution_count": null,
      "outputs": [
        {
          "output_type": "stream",
          "name": "stdout",
          "text": [
            "           Date                            Transaction Particulars      Ch No  \\\n",
            "0    10/17/2018                                            BY CASH        NaN   \n",
            "1    10/20/2018                            APY-SI-90220-20/10/2018        NaN   \n",
            "2    10/30/2018             NFSD/BWCW102106//08:24:30/830308028405        NaN   \n",
            "3    11/01/2018  UPI/830513567421/karan/UTIB/910010029790637/Pa...        NaN   \n",
            "4    11/01/2018     IMPS/830513336199/P2A/PTM/AMA GHARAMI/comments        NaN   \n",
            "..          ...                                                ...        ...   \n",
            "172  12/04/2018  IMPS/833817136621/P2A/PTM/AJENURA KHATUN/comments        NaN   \n",
            "173  12/04/2018  IMPS/833817138810/P2A/PTM/AJENURA KHATUN/comments        NaN   \n",
            "174  12/04/2018             NFSD/S1BW000213//19:17:51/833819009872        NaN   \n",
            "175         NaN                                                NaN        NaN   \n",
            "176         NaN                                      *** TOTAL ***  727284.36   \n",
            "\n",
            "        Debit   Credit   Balance  \n",
            "0         NaN   2000.0   2000.00  \n",
            "1       151.0      NaN   1849.00  \n",
            "2      1500.0      NaN    349.00  \n",
            "3         NaN  19000.0  19349.00  \n",
            "4         NaN    100.0  19449.00  \n",
            "..        ...      ...       ...  \n",
            "172       NaN  10000.0  10298.24  \n",
            "173       NaN   8000.0  18298.24  \n",
            "174   10023.6      NaN   8274.64  \n",
            "175       NaN      NaN       NaN  \n",
            "176  766459.0      NaN       NaN  \n",
            "\n",
            "[177 rows x 6 columns]\n",
            "[39459.32 27786.12 34459.32 30406.44 38426.52  9707.08 36823.    5480.2\n",
            "  5480.2  20043.32  5056.6   5480.2  29149.   30076.36 30415.88 20603.24\n",
            " 28158.64  2668.76 12867.24   496.12 15067.24   415.88 19369.08 25496.12\n",
            "  2668.76 10298.24 28168.08   556.04   816.2  24872.84 19369.08 20496.12\n",
            " 13346.28 15325.4  39459.32 25370.76]\n",
            "accuracy=\n",
            "0.9996712011723077\n",
            "Transaction_Frequency\n",
            "0      0.000000\n",
            "1      0.081666\n",
            "2      4.297994\n",
            "3      0.000000\n",
            "4      0.000000\n",
            "         ...   \n",
            "172    0.000000\n",
            "173    0.000000\n",
            "174    1.211364\n",
            "175         NaN\n",
            "176         inf\n",
            "Name: Transaction_Frequency, Length: 177, dtype: float64\n"
          ]
        },
        {
          "output_type": "display_data",
          "data": {
            "text/plain": [
              "<Figure size 432x288 with 1 Axes>"
            ],
            "image/png": "[encoded data removed]"
          },
          "metadata": {
            "needs_background": "light"
          }
        }
      ]
    },
    {
      "cell_type": "code",
      "source": [
        "accuracy = regressor.score(X_test, y_test)\n",
        "print(\"accuracy=\")\n",
        "print(accuracy)"
      ],
      "metadata": {
        "colab": {
          "base_uri": "https://localhost:8080/"
        },
        "id": "qNvn5JEsPrwV",
        "outputId": "20999608-c2e8-4669-bd0d-5752f064610d"
      },
      "execution_count": null,
      "outputs": [
        {
          "output_type": "stream",
          "name": "stdout",
          "text": [
            "accuracy=\n",
            "0.9996712011723077\n"
          ]
        }
      ]
    }
  ]
}