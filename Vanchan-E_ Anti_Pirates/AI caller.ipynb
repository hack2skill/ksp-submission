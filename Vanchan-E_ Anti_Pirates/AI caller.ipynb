{
 "cells": [
  {
   "cell_type": "code",
   "execution_count": 32,
   "id": "cb4d1c8c",
   "metadata": {},
   "outputs": [],
   "source": [
    "#pip install azure-cognitiveservices-speech\n",
    "import azure.cognitiveservices.speech as speechsdk\n",
    "import time\n",
    "import random"
   ]
  },
  {
   "cell_type": "markdown",
   "id": "f862a0f6",
   "metadata": {},
   "source": [
    "#  speech-to-text"
   ]
  },
  {
   "cell_type": "code",
   "execution_count": 33,
   "id": "b1a4e52f",
   "metadata": {},
   "outputs": [],
   "source": [
    "def recognize_from_microphone():\n",
    "    # This example requires environment variables named \"SPEECH_KEY\" and \"SPEECH_REGION\"\n",
    "    speech_config = speechsdk.SpeechConfig(subscription='e8cbc273eb1a43e7a6a38938b8a30b63', region='centralindia')\n",
    "    speech_config.speech_recognition_language=\"en-IN\"\n",
    "\n",
    "    audio_config = speechsdk.audio.AudioConfig(use_default_microphone=True)\n",
    "    speech_recognizer = speechsdk.SpeechRecognizer(speech_config=speech_config, audio_config=audio_config)\n",
    "\n",
    "    print(\"Speak into your microphone.\")\n",
    "    speech_recognition_result = speech_recognizer.recognize_once_async().get()\n",
    "\n",
    "    if speech_recognition_result.reason == speechsdk.ResultReason.RecognizedSpeech:\n",
    "        print(\"Recognized: {}\".format(speech_recognition_result.text))\n",
    "        return speech_recognition_result.text\n",
    "    elif speech_recognition_result.reason == speechsdk.ResultReason.NoMatch:\n",
    "        print(\"No speech could be recognized: {}\".format(speech_recognition_result.no_match_details))\n",
    "    elif speech_recognition_result.reason == speechsdk.ResultReason.Canceled:\n",
    "        cancellation_details = speech_recognition_result.cancellation_details\n",
    "        print(\"Speech Recognition canceled: {}\".format(cancellation_details.reason))\n",
    "        if cancellation_details.reason == speechsdk.CancellationReason.Error:\n",
    "            print(\"Error details: {}\".format(cancellation_details.error_details))\n",
    "            print(\"Did you set the speech resource key and region values?\")\n",
    "\n",
    "# caller_text = recognize_from_microphone()"
   ]
  },
  {
   "cell_type": "markdown",
   "id": "f98591c0",
   "metadata": {},
   "source": [
    "# text-to-speech"
   ]
  },
  {
   "cell_type": "code",
   "execution_count": 34,
   "id": "e7db3970",
   "metadata": {},
   "outputs": [],
   "source": [
    "def reply(input_text):\n",
    "    # This example requires environment variables named \"SPEECH_KEY\" and \"SPEECH_REGION\"\n",
    "    speech_config = speechsdk.SpeechConfig(subscription='2eac4093659042a89d98671a3bb6d341', region='centralindia')\n",
    "    audio_config = speechsdk.audio.AudioOutputConfig(use_default_speaker=True)\n",
    "\n",
    "    # The language of the voice that speaks.\n",
    "    speech_config.speech_synthesis_voice_name='en-IN-PrabhatNeural'\n",
    "\n",
    "    speech_synthesizer = speechsdk.SpeechSynthesizer(speech_config=speech_config, audio_config=audio_config)\n",
    "\n",
    "    speech_synthesis_result = speech_synthesizer.speak_text_async(input_text).get()\n",
    "\n",
    "    if speech_synthesis_result.reason == speechsdk.ResultReason.SynthesizingAudioCompleted:\n",
    "        print(\"Speech synthesized for text [{}]\".format(input_text))\n",
    "    elif speech_synthesis_result.reason == speechsdk.ResultReason.Canceled:\n",
    "        cancellation_details = speech_synthesis_result.cancellation_details\n",
    "        print(\"Speech synthesis canceled: {}\".format(cancellation_details.reason))\n",
    "        if cancellation_details.reason == speechsdk.CancellationReason.Error:\n",
    "            if cancellation_details.error_details:\n",
    "                print(\"Error details: {}\".format(cancellation_details.error_details))\n",
    "                print(\"Did you set the speech resource key and region values?\")"
   ]
  },
  {
   "cell_type": "markdown",
   "id": "f38edaaa",
   "metadata": {},
   "source": [
    "# main()"
   ]
  },
  {
   "cell_type": "code",
   "execution_count": 35,
   "id": "2eaea08a",
   "metadata": {},
   "outputs": [],
   "source": [
    "standard_replies = [\"i can't hear your voice, can you please be more clear ?\",\n",
    "                   \"can you please repeat what you just said, sorry! there is some network issue here.\",\n",
    "                   \"i didn't understand what you just said.\",\n",
    "                   \"i want to know more.\"]\n",
    "prev = \"\"\n",
    "replies={\"talking\" : \"Yes, tell me\",\n",
    "        \"speaking\" : \"Yes, tell me\",\n",
    "         \"calling\" :  \"Yes, go ahead\",\n",
    "         \"interested?\" : \"yes, i am interested\",\n",
    "         \"you want\" : \"yes\",\n",
    "        \"otp\" : \"yes, just a second, its 569434\",\n",
    "         \"one time passowrd\" :  \"yes, just a second, its 785495\",\n",
    "        \"wanted loan\" : \"yes\",\n",
    "        \"betting\" : \" can you explain this more to me\",\n",
    "        \"what\": standard_replies[0],\n",
    "        \"hear me\": \"it is better now\",\n",
    "        \"details\": \"I forgot my account details, can you please tell me your address so that I can send DD to you\",\n",
    "        \"repeat\": prev,\n",
    "        \"kind\": \"As I said right, i wanted instant loan. can you please get me that?\",\n",
    "        \"looking\":\"i wanted instant loan. can you please get me that?\",\n",
    "        \"address\":\"Thank you, I'll send it to the specified address\",\n",
    "        \"thank\":\"Bye.\",\n",
    "        \"thanks\" : \"Bye\"\n",
    "        }"
   ]
  },
  {
   "cell_type": "code",
   "execution_count": 36,
   "id": "965a8c68",
   "metadata": {},
   "outputs": [
    {
     "name": "stdout",
     "output_type": "stream",
     "text": [
      "Speak into your microphone.\n",
      "Recognized: Hello, I am Vishnu. I am speaking to Mr Aniket.\n",
      "Speech synthesized for text [Yes, tell me]\n",
      "Speak into your microphone.\n",
      "Recognized: I am from Financial Services department. I see that you registered on our website about a loan. Can we talk about this right now?\n",
      "Speech synthesized for text [i want to know more.]\n",
      "Speak into your microphone.\n",
      "Recognized: Yeah. Which loan do you want to actually?\n",
      "Speech synthesized for text [i want to know more.]\n",
      "Speak into your microphone.\n",
      "Recognized: What type of loan you want actually?\n",
      "Speech synthesized for text [can you please repeat what you just said, sorry! there is some network issue here.]\n",
      "Speak into your microphone.\n",
      "Recognized: What kind of loan you want?\n",
      "Speech synthesized for text [As I said right, i wanted instant loan. can you please get me that?]\n",
      "Speak into your microphone.\n",
      "Recognized: Yeah, sure. Can you please share me your bank details?\n",
      "Speech synthesized for text [i can't hear your voice, can you please be more clear ?]\n",
      "Speak into your microphone.\n",
      "Recognized: Can you hear me your bank details please?\n",
      "Speech synthesized for text [I forgot my account details, can you please tell me your address so that I can send DD to you]\n",
      "Speak into your microphone.\n",
      "Recognized: Yeah, my address is Dash Dash dash and you can send it to this address.\n",
      "Speech synthesized for text [Thank you, I'll send it to the specified address]\n",
      "Speak into your microphone.\n",
      "Recognized: Thanks.\n",
      "Speech synthesized for text [i can't hear your voice, can you please be more clear ?]\n",
      "Speak into your microphone.\n",
      "Recognized: Thank you.\n",
      "Speech synthesized for text [i want to know more.]\n",
      "Speak into your microphone.\n",
      "Recognized: Fill cut that thing last.\n",
      "Speech synthesized for text [i didn't understand what you just said.]\n",
      "Speak into your microphone.\n",
      "No speech could be recognized: NoMatchDetails(reason=NoMatchReason.NotRecognized)\n"
     ]
    },
    {
     "ename": "AttributeError",
     "evalue": "'NoneType' object has no attribute 'split'",
     "output_type": "error",
     "traceback": [
      "\u001b[1;31m---------------------------------------------------------------------------\u001b[0m",
      "\u001b[1;31mAttributeError\u001b[0m                            Traceback (most recent call last)",
      "Cell \u001b[1;32mIn[36], line 5\u001b[0m\n\u001b[0;32m      3\u001b[0m rand_idx \u001b[39m=\u001b[39m random\u001b[39m.\u001b[39mrandint(\u001b[39m0\u001b[39m, \u001b[39mlen\u001b[39m(standard_replies)\u001b[39m-\u001b[39m\u001b[39m1\u001b[39m)\n\u001b[0;32m      4\u001b[0m caller_text \u001b[39m=\u001b[39m recognize_from_microphone()\n\u001b[1;32m----> 5\u001b[0m caller_text \u001b[39m=\u001b[39m \u001b[39mlist\u001b[39m(caller_text\u001b[39m.\u001b[39;49msplit(\u001b[39m\"\u001b[39m\u001b[39m \u001b[39m\u001b[39m\"\u001b[39m))\n\u001b[0;32m      6\u001b[0m flag\u001b[39m=\u001b[39m\u001b[39m0\u001b[39m\n\u001b[0;32m      7\u001b[0m \u001b[39mfor\u001b[39;00m key,value \u001b[39min\u001b[39;00m replies\u001b[39m.\u001b[39mitems():\n",
      "\u001b[1;31mAttributeError\u001b[0m: 'NoneType' object has no attribute 'split'"
     ]
    }
   ],
   "source": [
    "end_time = time.time() + (60*2)\n",
    "while time.time() < end_time:\n",
    "    rand_idx = random.randint(0, len(standard_replies)-1)\n",
    "    caller_text = recognize_from_microphone()\n",
    "    caller_text = list(caller_text.split(\" \"))\n",
    "    flag=0\n",
    "    for key,value in replies.items():\n",
    "        if key in caller_text:\n",
    "            prev = key\n",
    "            reply(value)\n",
    "            flag=1\n",
    "            break\n",
    "    if flag==0:\n",
    "        reply(standard_replies[rand_idx])\n",
    " \n",
    "reply(\"ok, i will call you later, got to go, bye\")"
   ]
  },
  {
   "cell_type": "code",
   "execution_count": null,
   "id": "06a9b1b2",
   "metadata": {},
   "outputs": [],
   "source": []
  }
 ],
 "metadata": {
  "kernelspec": {
   "display_name": "Python 3.10.9 64-bit (microsoft store)",
   "language": "python",
   "name": "python3"
  },
  "language_info": {
   "codemirror_mode": {
    "name": "ipython",
    "version": 3
   },
   "file_extension": ".py",
   "mimetype": "text/x-python",
   "name": "python",
   "nbconvert_exporter": "python",
   "pygments_lexer": "ipython3",
   "version": "3.10.9"
  },
  "vscode": {
   "interpreter": {
    "hash": "256e7590f6950b5f6dd0a496b5ee28ed8f63fc44a32891a1ff556d54add0dbb6"
   }
  }
 },
 "nbformat": 4,
 "nbformat_minor": 5
}
